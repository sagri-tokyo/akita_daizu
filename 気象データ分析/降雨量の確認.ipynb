{
 "cells": [
  {
   "cell_type": "code",
   "execution_count": 1,
   "metadata": {},
   "outputs": [
    {
     "data": {
      "text/plain": [
       "<class 'netCDF4._netCDF4.Dataset'>\n",
       "root group (NETCDF3_CLASSIC data model, file format NETCDF3):\n",
       "    history: 2022-02-01 04:04:39 GMT Hyrax-1.13.4 https://amd.rd.naro.go.jp:443/opendap/AMD/Area1/2021/AMD_Area1_APCP.nc.nc?geogrid(APCP,40.34763205639712,140.00639579051995,40.20499263124444,140.14306947743816,\"44194<time\",\"time<44549\")\n",
       "    dimensions(sizes): time(354), lat(19), lon(12)\n",
       "    variables(dimensions): float64 time(time), float32 lat(lat), float32 lon(lon), float32 APCP(time, lat, lon)\n",
       "    groups: "
      ]
     },
     "execution_count": 1,
     "metadata": {},
     "output_type": "execute_result"
    }
   ],
   "source": [
    "from netCDF4 import Dataset\n",
    "nc = Dataset('APCP.NC','r')\n",
    "nc\n"
   ]
  },
  {
   "cell_type": "code",
   "execution_count": 2,
   "metadata": {},
   "outputs": [
    {
     "data": {
      "text/plain": [
       "{'time': <class 'netCDF4._netCDF4.Dimension'>: name = 'time', size = 354,\n",
       " 'lat': <class 'netCDF4._netCDF4.Dimension'>: name = 'lat', size = 19,\n",
       " 'lon': <class 'netCDF4._netCDF4.Dimension'>: name = 'lon', size = 12}"
      ]
     },
     "execution_count": 2,
     "metadata": {},
     "output_type": "execute_result"
    }
   ],
   "source": [
    "nc.dimensions"
   ]
  },
  {
   "cell_type": "code",
   "execution_count": 3,
   "metadata": {},
   "outputs": [
    {
     "data": {
      "text/plain": [
       "dict_keys(['time', 'lat', 'lon', 'APCP'])"
      ]
     },
     "execution_count": 3,
     "metadata": {},
     "output_type": "execute_result"
    }
   ],
   "source": [
    "nc.variables.keys()"
   ]
  },
  {
   "cell_type": "code",
   "execution_count": 4,
   "metadata": {},
   "outputs": [
    {
     "data": {
      "text/plain": [
       "<class 'netCDF4._netCDF4.Variable'>\n",
       "float32 APCP(time, lat, lon)\n",
       "    _FillValue: 9.96921e+36\n",
       "    long_name: Daily precipitation\n",
       "    units: mm\n",
       "unlimited dimensions: \n",
       "current shape = (354, 19, 12)\n",
       "filling on"
      ]
     },
     "execution_count": 4,
     "metadata": {},
     "output_type": "execute_result"
    }
   ],
   "source": [
    "nc['APCP']"
   ]
  },
  {
   "cell_type": "code",
   "execution_count": 5,
   "metadata": {},
   "outputs": [
    {
     "data": {
      "text/plain": [
       "<class 'netCDF4._netCDF4.Variable'>\n",
       "float64 time(time)\n",
       "    _FillValue: 9.969209968386869e+36\n",
       "    calendar: standard\n",
       "    units: days since 1900-1-1 00:00:0.0\n",
       "unlimited dimensions: \n",
       "current shape = (354,)\n",
       "filling on"
      ]
     },
     "execution_count": 5,
     "metadata": {},
     "output_type": "execute_result"
    }
   ],
   "source": [
    "nc['time']"
   ]
  },
  {
   "cell_type": "code",
   "execution_count": 6,
   "metadata": {},
   "outputs": [],
   "source": [
    "import geopandas as gpd\n",
    "df474 = gpd.read_file('474+120圃場.geojson')"
   ]
  },
  {
   "cell_type": "code",
   "execution_count": 7,
   "metadata": {},
   "outputs": [
    {
     "name": "stderr",
     "output_type": "stream",
     "text": [
      "/tmp/ipykernel_7214/713132183.py:3: UserWarning: Geometry is in a geographic CRS. Results from 'centroid' are likely incorrect. Use 'GeoSeries.to_crs()' to re-project geometries to a projected CRS before this operation.\n",
      "\n",
      "  df474_min_xy['lon'] = (df474_min_xy['geometry'].centroid.x)\n",
      "/tmp/ipykernel_7214/713132183.py:4: UserWarning: Geometry is in a geographic CRS. Results from 'centroid' are likely incorrect. Use 'GeoSeries.to_crs()' to re-project geometries to a projected CRS before this operation.\n",
      "\n",
      "  df474_min_xy['lat'] = (df474_min_xy['geometry'].centroid.y)\n"
     ]
    }
   ],
   "source": [
    "df474 = df474.to_crs('EPSG:4612')\n",
    "df474_min_xy = df474\n",
    "df474_min_xy['lon'] = (df474_min_xy['geometry'].centroid.x)\n",
    "df474_min_xy['lat'] = (df474_min_xy['geometry'].centroid.y)\n"
   ]
  },
  {
   "cell_type": "code",
   "execution_count": 8,
   "metadata": {},
   "outputs": [],
   "source": [
    "import xarray as xr\n",
    "rainfall_2021 = xr.open_dataarray('APCP.NC')\n",
    "rainfall_mean = xr.open_dataarray('APCP_mea.nc')"
   ]
  },
  {
   "cell_type": "code",
   "execution_count": 9,
   "metadata": {},
   "outputs": [
    {
     "data": {
      "text/plain": [
       "<bound method DataArray.head of <xarray.DataArray 'APCP' (time: 354, lat: 19, lon: 12)>\n",
       "array([[[     nan, 0.      , ..., 1.830548, 1.890035],\n",
       "        [     nan,      nan, ..., 1.78305 , 1.851439],\n",
       "        ...,\n",
       "        [0.      , 0.      , ..., 0.903651, 1.085153],\n",
       "        [0.      , 0.      , ..., 0.89895 , 1.08613 ]],\n",
       "\n",
       "       [[     nan, 0.924079, ..., 2.30406 , 2.403155],\n",
       "        [     nan,      nan, ..., 2.287456, 2.399901],\n",
       "        ...,\n",
       "        [0.932702, 0.940246, ..., 1.639886, 1.762363],\n",
       "        [0.940068, 0.961454, ..., 1.640721, 1.765591]],\n",
       "\n",
       "       ...,\n",
       "\n",
       "       [[     nan, 3.085468, ..., 4.588468, 4.6265  ],\n",
       "        [     nan,      nan, ..., 4.575217, 4.631919],\n",
       "        ...,\n",
       "        [4.650898, 4.765364, ..., 4.681128, 4.519068],\n",
       "        [4.684963, 4.810871, ..., 4.697586, 4.53403 ]],\n",
       "\n",
       "       [[     nan, 5.132504, ..., 5.694015, 5.599537],\n",
       "        [     nan,      nan, ..., 5.643414, 5.578401],\n",
       "        ...,\n",
       "        [4.682021, 4.769897, ..., 5.409069, 5.335442],\n",
       "        [4.708956, 4.814439, ..., 5.448826, 5.384239]]], dtype=float32)\n",
       "Coordinates:\n",
       "  * time     (time) datetime64[ns] 2021-01-01 2021-01-02 ... 2021-12-20\n",
       "  * lat      (lat) float32 40.35 40.35 40.34 40.33 ... 40.23 40.22 40.21 40.2\n",
       "  * lon      (lon) float32 140.0 140.0 140.0 140.0 ... 140.1 140.1 140.1 140.1\n",
       "Attributes:\n",
       "    long_name:  Daily precipitation\n",
       "    units:      mm>"
      ]
     },
     "execution_count": 9,
     "metadata": {},
     "output_type": "execute_result"
    }
   ],
   "source": [
    "rainfall_2021.head"
   ]
  },
  {
   "cell_type": "code",
   "execution_count": 10,
   "metadata": {},
   "outputs": [],
   "source": [
    "import pandas as pd\n",
    "df_rainfall_2021 = pd.DataFrame()\n",
    "df_rainfall_mean = pd.DataFrame()\n",
    "for i in range(474):\n",
    "    lat1 = df474_min_xy['lat'][i]\n",
    "    lon1 = df474_min_xy['lon'][i]\n",
    "    location_df = rainfall_2021.sel(lat=lat1,lon=lon1,method='nearest').to_dataframe()\n",
    "    df_rainfall_2021 = df_rainfall_2021.append(location_df)\n",
    "    \n",
    "for i in range(474):\n",
    "    lat1 = df474_min_xy['lat'][i]\n",
    "    lon1 = df474_min_xy['lon'][i]\n",
    "    location_df = rainfall_mean.sel(lat=lat1,lon=lon1,method='nearest').to_dataframe()\n",
    "    df_rainfall_mean = df_rainfall_mean.append(location_df)"
   ]
  },
  {
   "cell_type": "code",
   "execution_count": 11,
   "metadata": {},
   "outputs": [],
   "source": [
    "df_rainfall_2021['xy'] = df_rainfall_2021['lat'].astype(str) + ',' + df_rainfall_2021['lon'].astype(str)\n",
    "df_rainfall_mean['xy'] = df_rainfall_mean['lat'].astype(str) + ',' + df_rainfall_mean['lon'].astype(str)\n"
   ]
  },
  {
   "cell_type": "code",
   "execution_count": 12,
   "metadata": {},
   "outputs": [],
   "source": [
    "df_rainfall_2021['time'] = df_rainfall_2021.index\n",
    "df_rainfall_2021['time'] = pd.to_datetime(df_rainfall_2021['time'])\n",
    "\n",
    "df_rainfall_mean['time'] = df_rainfall_mean.index\n",
    "df_rainfall_mean['time'] = pd.to_datetime(df_rainfall_mean['time'])"
   ]
  },
  {
   "cell_type": "code",
   "execution_count": 13,
   "metadata": {},
   "outputs": [
    {
     "data": {
      "text/html": [
       "<div>\n",
       "<style scoped>\n",
       "    .dataframe tbody tr th:only-of-type {\n",
       "        vertical-align: middle;\n",
       "    }\n",
       "\n",
       "    .dataframe tbody tr th {\n",
       "        vertical-align: top;\n",
       "    }\n",
       "\n",
       "    .dataframe thead th {\n",
       "        text-align: right;\n",
       "    }\n",
       "</style>\n",
       "<table border=\"1\" class=\"dataframe\">\n",
       "  <thead>\n",
       "    <tr style=\"text-align: right;\">\n",
       "      <th></th>\n",
       "      <th>lat</th>\n",
       "      <th>lon</th>\n",
       "      <th>APCP</th>\n",
       "      <th>xy</th>\n",
       "      <th>time</th>\n",
       "    </tr>\n",
       "    <tr>\n",
       "      <th>time</th>\n",
       "      <th></th>\n",
       "      <th></th>\n",
       "      <th></th>\n",
       "      <th></th>\n",
       "      <th></th>\n",
       "    </tr>\n",
       "  </thead>\n",
       "  <tbody>\n",
       "    <tr>\n",
       "      <th>2021-01-01</th>\n",
       "      <td>40.270832</td>\n",
       "      <td>140.018753</td>\n",
       "      <td>0.000000</td>\n",
       "      <td>40.270832,140.01875</td>\n",
       "      <td>2021-01-01</td>\n",
       "    </tr>\n",
       "    <tr>\n",
       "      <th>2021-01-02</th>\n",
       "      <td>40.270832</td>\n",
       "      <td>140.018753</td>\n",
       "      <td>0.994340</td>\n",
       "      <td>40.270832,140.01875</td>\n",
       "      <td>2021-01-02</td>\n",
       "    </tr>\n",
       "    <tr>\n",
       "      <th>2021-01-03</th>\n",
       "      <td>40.270832</td>\n",
       "      <td>140.018753</td>\n",
       "      <td>0.000000</td>\n",
       "      <td>40.270832,140.01875</td>\n",
       "      <td>2021-01-03</td>\n",
       "    </tr>\n",
       "    <tr>\n",
       "      <th>2021-01-04</th>\n",
       "      <td>40.270832</td>\n",
       "      <td>140.018753</td>\n",
       "      <td>0.000000</td>\n",
       "      <td>40.270832,140.01875</td>\n",
       "      <td>2021-01-04</td>\n",
       "    </tr>\n",
       "    <tr>\n",
       "      <th>2021-01-05</th>\n",
       "      <td>40.270832</td>\n",
       "      <td>140.018753</td>\n",
       "      <td>0.000000</td>\n",
       "      <td>40.270832,140.01875</td>\n",
       "      <td>2021-01-05</td>\n",
       "    </tr>\n",
       "    <tr>\n",
       "      <th>...</th>\n",
       "      <td>...</td>\n",
       "      <td>...</td>\n",
       "      <td>...</td>\n",
       "      <td>...</td>\n",
       "      <td>...</td>\n",
       "    </tr>\n",
       "    <tr>\n",
       "      <th>2021-12-16</th>\n",
       "      <td>40.287498</td>\n",
       "      <td>140.068756</td>\n",
       "      <td>4.946250</td>\n",
       "      <td>40.2875,140.06876</td>\n",
       "      <td>2021-12-16</td>\n",
       "    </tr>\n",
       "    <tr>\n",
       "      <th>2021-12-17</th>\n",
       "      <td>40.287498</td>\n",
       "      <td>140.068756</td>\n",
       "      <td>10.630684</td>\n",
       "      <td>40.2875,140.06876</td>\n",
       "      <td>2021-12-17</td>\n",
       "    </tr>\n",
       "    <tr>\n",
       "      <th>2021-12-18</th>\n",
       "      <td>40.287498</td>\n",
       "      <td>140.068756</td>\n",
       "      <td>11.100202</td>\n",
       "      <td>40.2875,140.06876</td>\n",
       "      <td>2021-12-18</td>\n",
       "    </tr>\n",
       "    <tr>\n",
       "      <th>2021-12-19</th>\n",
       "      <td>40.287498</td>\n",
       "      <td>140.068756</td>\n",
       "      <td>4.418488</td>\n",
       "      <td>40.2875,140.06876</td>\n",
       "      <td>2021-12-19</td>\n",
       "    </tr>\n",
       "    <tr>\n",
       "      <th>2021-12-20</th>\n",
       "      <td>40.287498</td>\n",
       "      <td>140.068756</td>\n",
       "      <td>5.145557</td>\n",
       "      <td>40.2875,140.06876</td>\n",
       "      <td>2021-12-20</td>\n",
       "    </tr>\n",
       "  </tbody>\n",
       "</table>\n",
       "<p>167796 rows × 5 columns</p>\n",
       "</div>"
      ],
      "text/plain": [
       "                  lat         lon       APCP                   xy       time\n",
       "time                                                                        \n",
       "2021-01-01  40.270832  140.018753   0.000000  40.270832,140.01875 2021-01-01\n",
       "2021-01-02  40.270832  140.018753   0.994340  40.270832,140.01875 2021-01-02\n",
       "2021-01-03  40.270832  140.018753   0.000000  40.270832,140.01875 2021-01-03\n",
       "2021-01-04  40.270832  140.018753   0.000000  40.270832,140.01875 2021-01-04\n",
       "2021-01-05  40.270832  140.018753   0.000000  40.270832,140.01875 2021-01-05\n",
       "...               ...         ...        ...                  ...        ...\n",
       "2021-12-16  40.287498  140.068756   4.946250    40.2875,140.06876 2021-12-16\n",
       "2021-12-17  40.287498  140.068756  10.630684    40.2875,140.06876 2021-12-17\n",
       "2021-12-18  40.287498  140.068756  11.100202    40.2875,140.06876 2021-12-18\n",
       "2021-12-19  40.287498  140.068756   4.418488    40.2875,140.06876 2021-12-19\n",
       "2021-12-20  40.287498  140.068756   5.145557    40.2875,140.06876 2021-12-20\n",
       "\n",
       "[167796 rows x 5 columns]"
      ]
     },
     "execution_count": 13,
     "metadata": {},
     "output_type": "execute_result"
    }
   ],
   "source": [
    "df_rainfall_2021"
   ]
  },
  {
   "cell_type": "code",
   "execution_count": 14,
   "metadata": {},
   "outputs": [],
   "source": [
    "\n",
    "\n",
    "point_1_df_rainfall_2021 = df_rainfall_2021.groupby('xy').get_group(df_rainfall_2021['xy'].unique()[1])\n",
    "point_1_df_rainfall_mean = df_rainfall_mean.groupby('xy').get_group(df_rainfall_mean['xy'].unique()[1])\n",
    "\n"
   ]
  },
  {
   "cell_type": "code",
   "execution_count": 15,
   "metadata": {},
   "outputs": [
    {
     "data": {
      "text/html": [
       "<div>\n",
       "<style scoped>\n",
       "    .dataframe tbody tr th:only-of-type {\n",
       "        vertical-align: middle;\n",
       "    }\n",
       "\n",
       "    .dataframe tbody tr th {\n",
       "        vertical-align: top;\n",
       "    }\n",
       "\n",
       "    .dataframe thead th {\n",
       "        text-align: right;\n",
       "    }\n",
       "</style>\n",
       "<table border=\"1\" class=\"dataframe\">\n",
       "  <thead>\n",
       "    <tr style=\"text-align: right;\">\n",
       "      <th></th>\n",
       "      <th>lat</th>\n",
       "      <th>lon</th>\n",
       "      <th>APCP</th>\n",
       "      <th>xy</th>\n",
       "      <th>time</th>\n",
       "    </tr>\n",
       "    <tr>\n",
       "      <th>time</th>\n",
       "      <th></th>\n",
       "      <th></th>\n",
       "      <th></th>\n",
       "      <th></th>\n",
       "      <th></th>\n",
       "    </tr>\n",
       "  </thead>\n",
       "  <tbody>\n",
       "    <tr>\n",
       "      <th>2021-01-01</th>\n",
       "      <td>40.279167</td>\n",
       "      <td>140.081253</td>\n",
       "      <td>0.703454</td>\n",
       "      <td>40.279167,140.08125</td>\n",
       "      <td>2021-01-01</td>\n",
       "    </tr>\n",
       "    <tr>\n",
       "      <th>2021-01-02</th>\n",
       "      <td>40.279167</td>\n",
       "      <td>140.081253</td>\n",
       "      <td>1.467474</td>\n",
       "      <td>40.279167,140.08125</td>\n",
       "      <td>2021-01-02</td>\n",
       "    </tr>\n",
       "    <tr>\n",
       "      <th>2021-01-03</th>\n",
       "      <td>40.279167</td>\n",
       "      <td>140.081253</td>\n",
       "      <td>0.642065</td>\n",
       "      <td>40.279167,140.08125</td>\n",
       "      <td>2021-01-03</td>\n",
       "    </tr>\n",
       "    <tr>\n",
       "      <th>2021-01-04</th>\n",
       "      <td>40.279167</td>\n",
       "      <td>140.081253</td>\n",
       "      <td>0.500701</td>\n",
       "      <td>40.279167,140.08125</td>\n",
       "      <td>2021-01-04</td>\n",
       "    </tr>\n",
       "    <tr>\n",
       "      <th>2021-01-05</th>\n",
       "      <td>40.279167</td>\n",
       "      <td>140.081253</td>\n",
       "      <td>0.000000</td>\n",
       "      <td>40.279167,140.08125</td>\n",
       "      <td>2021-01-05</td>\n",
       "    </tr>\n",
       "  </tbody>\n",
       "</table>\n",
       "</div>"
      ],
      "text/plain": [
       "                  lat         lon      APCP                   xy       time\n",
       "time                                                                       \n",
       "2021-01-01  40.279167  140.081253  0.703454  40.279167,140.08125 2021-01-01\n",
       "2021-01-02  40.279167  140.081253  1.467474  40.279167,140.08125 2021-01-02\n",
       "2021-01-03  40.279167  140.081253  0.642065  40.279167,140.08125 2021-01-03\n",
       "2021-01-04  40.279167  140.081253  0.500701  40.279167,140.08125 2021-01-04\n",
       "2021-01-05  40.279167  140.081253  0.000000  40.279167,140.08125 2021-01-05"
      ]
     },
     "execution_count": 15,
     "metadata": {},
     "output_type": "execute_result"
    }
   ],
   "source": [
    "point_1_df_rainfall_2021.head()"
   ]
  },
  {
   "cell_type": "code",
   "execution_count": 16,
   "metadata": {},
   "outputs": [],
   "source": [
    "#月毎の集計\n",
    "x_2021=pd.DataFrame()\n",
    "x_mean=pd.DataFrame()\n",
    "x_2021['APCP'] = point_1_df_rainfall_2021['APCP'].resample(rule='M').sum()\n",
    "x_mean['APCP'] = point_1_df_rainfall_mean['APCP'].resample(rule='M').sum()\n",
    "#x_2021['time'] = point_1_df_rainfall_2021['time'].resample(rule='M')\n",
    "#x_mean['time'] = point_1_df_rainfall_mean['time'].resample(rule='M')\n",
    "#x_2021.to_csv('2021.csv',index=False)\n",
    "#x_mean.to_csv('mean.csv',index=False)"
   ]
  },
  {
   "cell_type": "code",
   "execution_count": 17,
   "metadata": {},
   "outputs": [
    {
     "data": {
      "text/plain": [
       "<bound method NDFrame.head of                    APCP\n",
       "time                   \n",
       "2021-01-31  2125.008545\n",
       "2021-02-28  1707.739990\n",
       "2021-03-31  2464.860352\n",
       "2021-04-30  1927.539307\n",
       "2021-05-31  3172.406982\n",
       "2021-06-30  1430.665161\n",
       "2021-07-31  1874.658569\n",
       "2021-08-31  2875.605713\n",
       "2021-09-30  1437.095093\n",
       "2021-10-31  3057.627930\n",
       "2021-11-30  3754.547363\n",
       "2021-12-31  2070.512451>"
      ]
     },
     "execution_count": 17,
     "metadata": {},
     "output_type": "execute_result"
    }
   ],
   "source": [
    "x_2021.head"
   ]
  },
  {
   "cell_type": "code",
   "execution_count": 18,
   "metadata": {},
   "outputs": [
    {
     "data": {
      "text/plain": [
       "<bound method NDFrame.head of                    APCP\n",
       "time                   \n",
       "2021-01-31  2206.176514\n",
       "2021-02-28  1630.265015\n",
       "2021-03-31  1631.656494\n",
       "2021-04-30  1489.499268\n",
       "2021-05-31  1757.328979\n",
       "2021-06-30  1903.598145\n",
       "2021-07-31  3312.377197\n",
       "2021-08-31  2925.535156\n",
       "2021-09-30  2740.438477\n",
       "2021-10-31  2547.248535\n",
       "2021-11-30  2482.873047\n",
       "2021-12-31  1595.464111>"
      ]
     },
     "execution_count": 18,
     "metadata": {},
     "output_type": "execute_result"
    }
   ],
   "source": [
    "x_mean.head"
   ]
  },
  {
   "cell_type": "code",
   "execution_count": 19,
   "metadata": {},
   "outputs": [],
   "source": [
    "import matplotlib.pyplot as plt\n",
    "import seaborn as sns\n",
    "import japanize_matplotlib"
   ]
  },
  {
   "cell_type": "code",
   "execution_count": 20,
   "metadata": {},
   "outputs": [
    {
     "data": {
      "text/html": [
       "<div>\n",
       "<style scoped>\n",
       "    .dataframe tbody tr th:only-of-type {\n",
       "        vertical-align: middle;\n",
       "    }\n",
       "\n",
       "    .dataframe tbody tr th {\n",
       "        vertical-align: top;\n",
       "    }\n",
       "\n",
       "    .dataframe thead th {\n",
       "        text-align: right;\n",
       "    }\n",
       "</style>\n",
       "<table border=\"1\" class=\"dataframe\">\n",
       "  <thead>\n",
       "    <tr style=\"text-align: right;\">\n",
       "      <th></th>\n",
       "      <th>lat</th>\n",
       "      <th>lon</th>\n",
       "      <th>APCP</th>\n",
       "      <th>xy</th>\n",
       "      <th>time</th>\n",
       "    </tr>\n",
       "    <tr>\n",
       "      <th>time</th>\n",
       "      <th></th>\n",
       "      <th></th>\n",
       "      <th></th>\n",
       "      <th></th>\n",
       "      <th></th>\n",
       "    </tr>\n",
       "  </thead>\n",
       "  <tbody>\n",
       "    <tr>\n",
       "      <th>2021-01-01</th>\n",
       "      <td>40.270832</td>\n",
       "      <td>140.018753</td>\n",
       "      <td>0.00000</td>\n",
       "      <td>40.270832,140.01875</td>\n",
       "      <td>2021-01-01</td>\n",
       "    </tr>\n",
       "    <tr>\n",
       "      <th>2021-01-02</th>\n",
       "      <td>40.270832</td>\n",
       "      <td>140.018753</td>\n",
       "      <td>0.99434</td>\n",
       "      <td>40.270832,140.01875</td>\n",
       "      <td>2021-01-02</td>\n",
       "    </tr>\n",
       "    <tr>\n",
       "      <th>2021-01-03</th>\n",
       "      <td>40.270832</td>\n",
       "      <td>140.018753</td>\n",
       "      <td>0.00000</td>\n",
       "      <td>40.270832,140.01875</td>\n",
       "      <td>2021-01-03</td>\n",
       "    </tr>\n",
       "    <tr>\n",
       "      <th>2021-01-04</th>\n",
       "      <td>40.270832</td>\n",
       "      <td>140.018753</td>\n",
       "      <td>0.00000</td>\n",
       "      <td>40.270832,140.01875</td>\n",
       "      <td>2021-01-04</td>\n",
       "    </tr>\n",
       "    <tr>\n",
       "      <th>2021-01-05</th>\n",
       "      <td>40.270832</td>\n",
       "      <td>140.018753</td>\n",
       "      <td>0.00000</td>\n",
       "      <td>40.270832,140.01875</td>\n",
       "      <td>2021-01-05</td>\n",
       "    </tr>\n",
       "  </tbody>\n",
       "</table>\n",
       "</div>"
      ],
      "text/plain": [
       "                  lat         lon     APCP                   xy       time\n",
       "time                                                                      \n",
       "2021-01-01  40.270832  140.018753  0.00000  40.270832,140.01875 2021-01-01\n",
       "2021-01-02  40.270832  140.018753  0.99434  40.270832,140.01875 2021-01-02\n",
       "2021-01-03  40.270832  140.018753  0.00000  40.270832,140.01875 2021-01-03\n",
       "2021-01-04  40.270832  140.018753  0.00000  40.270832,140.01875 2021-01-04\n",
       "2021-01-05  40.270832  140.018753  0.00000  40.270832,140.01875 2021-01-05"
      ]
     },
     "execution_count": 20,
     "metadata": {},
     "output_type": "execute_result"
    }
   ],
   "source": [
    "df_rainfall_2021.head()"
   ]
  },
  {
   "cell_type": "code",
   "execution_count": 24,
   "metadata": {},
   "outputs": [
    {
     "data": {
      "image/png": "[encoded data removed]",
      "text/plain": [
       "<Figure size 864x432 with 1 Axes>"
      ]
     },
     "metadata": {
      "needs_background": "light"
     },
     "output_type": "display_data"
    }
   ],
   "source": [
    "import numpy as np\n",
    "\n",
    "df_2021=pd.read_csv('2021.csv')\n",
    "df_mean=pd.read_csv('mean.csv')\n",
    "\n",
    "labels = [1,2,3,4,5,6,7,8,9,10,11,12]\n",
    "\n",
    "x= df_2021['time']\n",
    "x_2 = df_mean['time']\n",
    "    \n",
    "y = df_2021['APCP']\n",
    "y_2 = df_mean['APCP']\n",
    "\n",
    "plt.figure(figsize=(12,6))\n",
    "plt.bar(x,y,color='red',label='2021',align='center',width=0.3)\n",
    "plt.bar(x+0.3,y_2,color='blue',label='mean',align='center',width=0.3)\n",
    "plt.xlabel('time')\n",
    "plt.ylabel('APCP')\n",
    "plt.xticks(np.arange(0, 13, step=1))\n",
    "plt.legend()\n",
    "\n",
    "plt.show()"
   ]
  },
  {
   "cell_type": "code",
   "execution_count": null,
   "metadata": {},
   "outputs": [],
   "source": [
    "#for i in range(0,34):\n",
    "\n",
    "#    x= df_rainfall_2021.groupby('xy').get_group(df_rainfall_2021['xy'].unique()[i])['time']\n",
    "#    x_2 = df_rainfall_mean.groupby('xy').get_group(df_rainfall_mean['xy'].unique()[i])['time']\n",
    "    \n",
    "#    y = df_rainfall_2021.groupby('xy').get_group(df_rainfall_2021['xy'].unique()[i])['APCP'].rolling(7).mean().round(1)\n",
    "#    y_2 = df_rainfall_mean.groupby('xy').get_group(df_rainfall_mean['xy'].unique()[i])['APCP'].rolling(7).mean().round(1)\n",
    "    \n",
    "#    plt.bar(x,y,color='red')\n",
    "#    plt.bar(x_2,y_2,color='blue')\n",
    "    \n",
    "#plt.set_xlabel('time')\n",
    "#plt.set_ylabel('APCP')\n",
    "    \n",
    "#    plt.legend(loc=2)\n",
    "\n",
    "#    plt.tight_layout()\n",
    "#    plt.show()"
   ]
  },
  {
   "cell_type": "code",
   "execution_count": null,
   "metadata": {},
   "outputs": [
    {
     "data": {
      "text/html": [
       "<div>\n",
       "<style scoped>\n",
       "    .dataframe tbody tr th:only-of-type {\n",
       "        vertical-align: middle;\n",
       "    }\n",
       "\n",
       "    .dataframe tbody tr th {\n",
       "        vertical-align: top;\n",
       "    }\n",
       "\n",
       "    .dataframe thead th {\n",
       "        text-align: right;\n",
       "    }\n",
       "</style>\n",
       "<table border=\"1\" class=\"dataframe\">\n",
       "  <thead>\n",
       "    <tr style=\"text-align: right;\">\n",
       "      <th></th>\n",
       "      <th>lat</th>\n",
       "      <th>lon</th>\n",
       "      <th>APCP_mean</th>\n",
       "      <th>xy</th>\n",
       "      <th>time</th>\n",
       "      <th>APCP_2021</th>\n",
       "    </tr>\n",
       "  </thead>\n",
       "  <tbody>\n",
       "    <tr>\n",
       "      <th>0</th>\n",
       "      <td>40.270832</td>\n",
       "      <td>140.01875</td>\n",
       "      <td>3.993308</td>\n",
       "      <td>40.270832,140.01875</td>\n",
       "      <td>2021/1/1</td>\n",
       "      <td>0.00000</td>\n",
       "    </tr>\n",
       "    <tr>\n",
       "      <th>1</th>\n",
       "      <td>40.270832</td>\n",
       "      <td>140.01875</td>\n",
       "      <td>3.971509</td>\n",
       "      <td>40.270832,140.01875</td>\n",
       "      <td>2021/1/2</td>\n",
       "      <td>0.99434</td>\n",
       "    </tr>\n",
       "    <tr>\n",
       "      <th>2</th>\n",
       "      <td>40.270832</td>\n",
       "      <td>140.01875</td>\n",
       "      <td>3.939961</td>\n",
       "      <td>40.270832,140.01875</td>\n",
       "      <td>2021/1/3</td>\n",
       "      <td>0.00000</td>\n",
       "    </tr>\n",
       "    <tr>\n",
       "      <th>3</th>\n",
       "      <td>40.270832</td>\n",
       "      <td>140.01875</td>\n",
       "      <td>3.837319</td>\n",
       "      <td>40.270832,140.01875</td>\n",
       "      <td>2021/1/4</td>\n",
       "      <td>0.00000</td>\n",
       "    </tr>\n",
       "    <tr>\n",
       "      <th>4</th>\n",
       "      <td>40.270832</td>\n",
       "      <td>140.01875</td>\n",
       "      <td>3.803611</td>\n",
       "      <td>40.270832,140.01875</td>\n",
       "      <td>2021/1/5</td>\n",
       "      <td>0.00000</td>\n",
       "    </tr>\n",
       "  </tbody>\n",
       "</table>\n",
       "</div>"
      ],
      "text/plain": [
       "         lat        lon  APCP_mean                   xy      time  APCP_2021\n",
       "0  40.270832  140.01875   3.993308  40.270832,140.01875  2021/1/1    0.00000\n",
       "1  40.270832  140.01875   3.971509  40.270832,140.01875  2021/1/2    0.99434\n",
       "2  40.270832  140.01875   3.939961  40.270832,140.01875  2021/1/3    0.00000\n",
       "3  40.270832  140.01875   3.837319  40.270832,140.01875  2021/1/4    0.00000\n",
       "4  40.270832  140.01875   3.803611  40.270832,140.01875  2021/1/5    0.00000"
      ]
     },
     "execution_count": 78,
     "metadata": {},
     "output_type": "execute_result"
    }
   ],
   "source": [
    "df = pd.read_csv('0_mean.csv')\n",
    "df.head()"
   ]
  },
  {
   "cell_type": "code",
   "execution_count": null,
   "metadata": {},
   "outputs": [
    {
     "data": {
      "image/png": "[encoded data removed]",
      "text/plain": [
       "<Figure size 432x288 with 1 Axes>"
      ]
     },
     "metadata": {
      "needs_background": "light"
     },
     "output_type": "display_data"
    }
   ],
   "source": [
    "x=df['time']\n",
    "y=df['APCP_2021'].rolling(7).mean().round(1)\n",
    "y_2=df['APCP_mean'].rolling(7).mean().round(1)\n",
    "\n",
    "plt.bar(x,y,color='red',label='2021')\n",
    "plt.bar(x,y_2,color='blue',label='mean')\n",
    "    \n",
    "#plt.set_xlabel('time')\n",
    "#plt.set_ylabel('APCP')\n",
    "    \n",
    "plt.legend()\n",
    "\n",
    "plt.tight_layout()\n",
    "plt.show()"
   ]
  },
  {
   "cell_type": "code",
   "execution_count": null,
   "metadata": {},
   "outputs": [],
   "source": []
  }
 ],
 "metadata": {
  "interpreter": {
   "hash": "bc2edc8c890e71c66c85203ac69dbffa4bd61c4113d7ae62b9e888c7cc6701da"
  },
  "kernelspec": {
   "display_name": "Python 3.9.7 64-bit ('base': conda)",
   "language": "python",
   "name": "python3"
  },
  "language_info": {
   "codemirror_mode": {
    "name": "ipython",
    "version": 3
   },
   "file_extension": ".py",
   "mimetype": "text/x-python",
   "name": "python",
   "nbconvert_exporter": "python",
   "pygments_lexer": "ipython3",
   "version": "3.9.5"
  },
  "orig_nbformat": 4
 },
 "nbformat": 4,
 "nbformat_minor": 2
}
