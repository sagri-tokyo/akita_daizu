{
 "cells": [
  {
   "cell_type": "markdown",
   "metadata": {},
   "source": [
    "# 1.解析対象ポリゴンに土壌実測データ結合"
   ]
  },
  {
   "cell_type": "code",
   "execution_count": 1,
   "metadata": {},
   "outputs": [],
   "source": [
    "import pandas as pd\n",
    "import geopandas as gpd"
   ]
  },
  {
   "cell_type": "code",
   "execution_count": 2,
   "metadata": {},
   "outputs": [],
   "source": [
    "gpd_data = gpd.read_file('/workspaces/akita_daizu/data/474+120圃場.geojson')"
   ]
  },
  {
   "cell_type": "code",
   "execution_count": 3,
   "metadata": {},
   "outputs": [],
   "source": [
    "soil_data = pd.read_excel('/workspaces/akita_daizu/data/0124修正_土壌データ+収量.xlsx', header=0)"
   ]
  },
  {
   "cell_type": "code",
   "execution_count": 4,
   "metadata": {},
   "outputs": [],
   "source": [
    "# gpdの結合用うの行の削除と作成\n",
    "gpd_data['作付け開始年'] = ''\n",
    "gpd_data['圃場番号'] = gpd_data['uniqueID']\n",
    "gpd_data['排水性の良否'] = gpd_data['pred_labels']\n",
    "gpd_data['EVI20902mean'] = gpd_data['EVI2mean']\n",
    "\n",
    "# gpdの必要な行だけ抽出して結合する ほしい行は以下の4行\n",
    "selected_gpd = gpd_data[['圃場番号','排水性の良否','作付年_y', 'H23以前_y','播種月日','作付け開始年','EVI20902mean','EVI20903mean','geometry']]"
   ]
  },
  {
   "cell_type": "code",
   "execution_count": 5,
   "metadata": {},
   "outputs": [
    {
     "name": "stderr",
     "output_type": "stream",
     "text": [
      "/tmp/ipykernel_17844/436268765.py:4: SettingWithCopyWarning: \n",
      "A value is trying to be set on a copy of a slice from a DataFrame\n",
      "\n",
      "See the caveats in the documentation: https://pandas.pydata.org/pandas-docs/stable/user_guide/indexing.html#returning-a-view-versus-a-copy\n",
      "  selected_gpd['作付け開始年'][index] =row['H23以前_y']\n",
      "/tmp/ipykernel_17844/436268765.py:6: SettingWithCopyWarning: \n",
      "A value is trying to be set on a copy of a slice from a DataFrame\n",
      "\n",
      "See the caveats in the documentation: https://pandas.pydata.org/pandas-docs/stable/user_guide/indexing.html#returning-a-view-versus-a-copy\n",
      "  selected_gpd['作付け開始年'][index] = row['作付年_y']\n",
      "/opt/conda/lib/python3.9/site-packages/geopandas/geodataframe.py:1322: SettingWithCopyWarning: \n",
      "A value is trying to be set on a copy of a slice from a DataFrame.\n",
      "Try using .loc[row_indexer,col_indexer] = value instead\n",
      "\n",
      "See the caveats in the documentation: https://pandas.pydata.org/pandas-docs/stable/user_guide/indexing.html#returning-a-view-versus-a-copy\n",
      "  super(GeoDataFrame, self).__setitem__(key, value)\n"
     ]
    }
   ],
   "source": [
    "#　この作付け年とH23以前を一つの列に。　まず作付け年が空ならH23以前を入れ込むようにFor\n",
    "for index, row in selected_gpd[['作付年_y', 'H23以前_y','作付け開始年']].iterrows():\n",
    "    if row['H23以前_y'] is not None :\n",
    "        selected_gpd['作付け開始年'][index] =row['H23以前_y']\n",
    "    elif  row['作付年_y'] is not None :\n",
    "        selected_gpd['作付け開始年'][index] = row['作付年_y']\n",
    "\n",
    "# それぞれの和暦を西暦に変更\n",
    "# H23 2011 H24 2012 H25 2013 R1 2019\n",
    "selected_gpd['作付け開始年'] = selected_gpd['作付け開始年'].str.replace(r'Ｒ3～',r'2021',)\n",
    "selected_gpd['作付け開始年'] = selected_gpd['作付け開始年'].str.replace(r'Ｒ2～',r'2020',)\n",
    "selected_gpd['作付け開始年'] = selected_gpd['作付け開始年'].str.replace(r'Ｒ1～',r'2019',)\n",
    "selected_gpd['作付け開始年'] = selected_gpd['作付け開始年'].str.replace(r'Ｈ30～',r'2017',)\n",
    "selected_gpd['作付け開始年'] = selected_gpd['作付け開始年'].str.replace(r'Ｈ28～',r'2016',)\n",
    "selected_gpd['作付け開始年'] = selected_gpd['作付け開始年'].str.replace(r'Ｈ27～',r'2015',)\n",
    "selected_gpd['作付け開始年'] = selected_gpd['作付け開始年'].str.replace(r'Ｈ26～',r'2014',)\n",
    "selected_gpd['作付け開始年'] = selected_gpd['作付け開始年'].str.replace(r'Ｈ25～',r'2013',)\n",
    "selected_gpd['作付け開始年'] = selected_gpd['作付け開始年'].str.replace(r'Ｈ24～',r'2012',)\n",
    "selected_gpd['作付け開始年'] = selected_gpd['作付け開始年'].str.replace(r'☑',r'2011',)\n",
    "selected_gpd['作付け開始年'].unique()\n",
    "\n",
    "target_selected_gpd = selected_gpd"
   ]
  },
  {
   "cell_type": "code",
   "execution_count": 6,
   "metadata": {},
   "outputs": [],
   "source": [
    "#まず　GPDとSOILデータでuniqueIDをキーにして全部結合する\n",
    "merged_pd = pd.merge(soil_data, target_selected_gpd, on=['圃場番号'], how='inner')"
   ]
  },
  {
   "cell_type": "code",
   "execution_count": 53,
   "metadata": {},
   "outputs": [],
   "source": [
    "# 有効数字3桁で丸め\n",
    "merged_pd = merged_pd.round(3)"
   ]
  },
  {
   "cell_type": "code",
   "execution_count": 72,
   "metadata": {},
   "outputs": [],
   "source": [
    "# heatmap作成のため不要な行の削除 土壌硬度周り\n",
    "drop_columns = merged_pd.filter(like='土壌硬度', axis=1).columns.values\n",
    "droped_soil_data = merged_pd.drop(drop_columns, axis = 1)\n",
    "# 現場測定値も不要\n",
    "drop_columns = ['播種月日_x','現場測定_EC(㎳／㎝)', '現場測定_PH','生育状況','最大圧の深さの平均', '最大圧力の平均','調査日', '現物重量ｋｇ','作付年_y','H23以前_y', '計量時水分％', '圃場面積', '住所','EVI20903mean', '反収現物重量kg/10a',\n",
    "       '15%時の重量']\n",
    "mymaps_data = droped_soil_data.drop(drop_columns, axis = 1)"
   ]
  },
  {
   "cell_type": "code",
   "execution_count": 73,
   "metadata": {},
   "outputs": [
    {
     "data": {
      "text/plain": [
       "Index(['圃場番号', 'SoilName', '15%反収現物重量kg/10a', '実験室測定_EC(㎳／㎝)', '実験室測定_pH',\n",
       "       'アンモニア態窒素(mgN/100g)', '硝酸態窒素(mgN/100g)', '可給隊窒素(mgN/100g)',\n",
       "       '有効態リン酸(mgP2O5/100g)', 'TC(%)', '腐食(%)', 'TN(%)', '排水性の良否',\n",
       "       '播種月日_y', '作付け開始年', 'EVI20902mean', 'geometry'],\n",
       "      dtype='object')"
      ]
     },
     "execution_count": 73,
     "metadata": {},
     "output_type": "execute_result"
    }
   ],
   "source": [
    "mymaps_data.columns"
   ]
  },
  {
   "cell_type": "markdown",
   "metadata": {},
   "source": [
    "このデータの連続値をカテゴリにしないといけない　\"最大値と最小値を5等分\"　で作成"
   ]
  },
  {
   "cell_type": "code",
   "execution_count": 74,
   "metadata": {},
   "outputs": [],
   "source": [
    "target_columns = ['15%反収現物重量kg/10a', '実験室測定_EC(㎳／㎝)', '実験室測定_pH',\n",
    "       'アンモニア態窒素(mgN/100g)', '硝酸態窒素(mgN/100g)', '可給隊窒素(mgN/100g)',\n",
    "       '有効態リン酸(mgP2O5/100g)', 'TC(%)', '腐食(%)', 'TN(%)', 'EVI20902mean']\n",
    "qcut_df = mymaps_data\n",
    "for x,i in enumerate(target_columns):\n",
    "    qcut_df[i] = pd.qcut(mymaps_data[i], 5)\n",
    "    # カテゴリデータ型になっていると出力できないのでstrにする\n",
    "    qcut_df[i] = qcut_df[i].astype(str)"
   ]
  },
  {
   "cell_type": "code",
   "execution_count": 77,
   "metadata": {},
   "outputs": [],
   "source": [
    "from shapely import wkt\n",
    "qcut_df['geometry'] = gpd.GeoSeries.from_wkt(qcut_df['geometry'])"
   ]
  },
  {
   "cell_type": "code",
   "execution_count": 83,
   "metadata": {},
   "outputs": [],
   "source": [
    "gdf_mymaps_data = qcut_df.set_crs('EPSG:6678')"
   ]
  },
  {
   "cell_type": "code",
   "execution_count": 85,
   "metadata": {},
   "outputs": [],
   "source": [
    "# 見えるかようのポリゴンの抽出\n",
    "gdf_mymaps_data = gpd.GeoDataFrame(qcut_df, geometry='geometry')\n",
    "gdf_mymaps_data.to_file('/workspaces/akita_daizu/data/mymaps.geojson', driver=\"GeoJSON\")  \n"
   ]
  },
  {
   "cell_type": "code",
   "execution_count": null,
   "metadata": {},
   "outputs": [],
   "source": []
  }
 ],
 "metadata": {
  "interpreter": {
   "hash": "d4d1e4263499bec80672ea0156c357c1ee493ec2b1c70f0acce89fc37c4a6abe"
  },
  "kernelspec": {
   "display_name": "Python 3.9.5 64-bit ('base': conda)",
   "language": "python",
   "name": "python3"
  },
  "language_info": {
   "codemirror_mode": {
    "name": "ipython",
    "version": 3
   },
   "file_extension": ".py",
   "mimetype": "text/x-python",
   "name": "python",
   "nbconvert_exporter": "python",
   "pygments_lexer": "ipython3",
   "version": "3.9.5"
  },
  "orig_nbformat": 4
 },
 "nbformat": 4,
 "nbformat_minor": 2
}
