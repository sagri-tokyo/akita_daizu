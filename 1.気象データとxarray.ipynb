{
 "cells": [
  {
   "cell_type": "markdown",
   "metadata": {},
   "source": [
    "# 0.netcdf概要"
   ]
  },
  {
   "cell_type": "code",
   "execution_count": 31,
   "metadata": {},
   "outputs": [
    {
     "data": {
      "text/plain": [
       "<class 'netCDF4._netCDF4.Dataset'>\n",
       "root group (NETCDF3_CLASSIC data model, file format NETCDF3):\n",
       "    history: 2022-01-19 02:17:00 GMT Hyrax-1.13.4 https://amd.rd.naro.go.jp:443/opendap/AMD/Area1/2021/AMD_Area1_Cli_TMP_mea.nc.nc?geogrid(TMP_mea,40.34763205639712,140.00639579051995,40.20499263124444,140.14306947743816,\"44194<time\",\"time<44519\")\n",
       "    dimensions(sizes): time(324), lat(19), lon(12)\n",
       "    variables(dimensions): float64 time(time), float32 lat(lat), float32 lon(lon), float32 TMP_mea(time, lat, lon)\n",
       "    groups: "
      ]
     },
     "execution_count": 31,
     "metadata": {},
     "output_type": "execute_result"
    }
   ],
   "source": [
    "# netcdfの読み込み　datasetクラスで読み込もつroot groupが生成される\n",
    "from netCDF4 import Dataset\n",
    "nc = Dataset('/workspaces/akita_daizu/data/netcdf/TMP_AVE.NC', 'r')\n",
    "nc"
   ]
  },
  {
   "cell_type": "code",
   "execution_count": 32,
   "metadata": {},
   "outputs": [
    {
     "data": {
      "text/plain": [
       "{'time': <class 'netCDF4._netCDF4.Dimension'>: name = 'time', size = 324,\n",
       " 'lat': <class 'netCDF4._netCDF4.Dimension'>: name = 'lat', size = 19,\n",
       " 'lon': <class 'netCDF4._netCDF4.Dimension'>: name = 'lon', size = 12}"
      ]
     },
     "execution_count": 32,
     "metadata": {},
     "output_type": "execute_result"
    }
   ],
   "source": [
    "# 観測次元\n",
    "nc.dimensions"
   ]
  },
  {
   "cell_type": "code",
   "execution_count": 33,
   "metadata": {},
   "outputs": [
    {
     "data": {
      "text/plain": [
       "dict_keys(['time', 'lat', 'lon', 'TMP_mea'])"
      ]
     },
     "execution_count": 33,
     "metadata": {},
     "output_type": "execute_result"
    }
   ],
   "source": [
    "# 格納されている値\n",
    "nc.variables.keys()"
   ]
  },
  {
   "cell_type": "code",
   "execution_count": 34,
   "metadata": {},
   "outputs": [
    {
     "data": {
      "text/plain": [
       "<class 'netCDF4._netCDF4.Variable'>\n",
       "float32 TMP_mea(time, lat, lon)\n",
       "    _FillValue: 9.96921e+36\n",
       "    long_name: Mean air temperature\n",
       "    units: degC\n",
       "unlimited dimensions: \n",
       "current shape = (324, 19, 12)\n",
       "filling on"
      ]
     },
     "execution_count": 34,
     "metadata": {},
     "output_type": "execute_result"
    }
   ],
   "source": [
    "#　格納されている値の内容を確認できる\n",
    "nc['TMP_mea']\n",
    "# データ構造は3次元　単位はdegC 大気温　セルシウス温度"
   ]
  },
  {
   "cell_type": "code",
   "execution_count": 35,
   "metadata": {},
   "outputs": [
    {
     "data": {
      "text/plain": [
       "<class 'netCDF4._netCDF4.Variable'>\n",
       "float64 time(time)\n",
       "    _FillValue: 9.969209968386869e+36\n",
       "    calendar: standard\n",
       "    units: days since 1900-1-1 00:00:0.0\n",
       "unlimited dimensions: \n",
       "current shape = (324,)\n",
       "filling on"
      ]
     },
     "execution_count": 35,
     "metadata": {},
     "output_type": "execute_result"
    }
   ],
   "source": [
    "nc['time']\n",
    "# 日時は1900/1/1から換算される値　1次元しかない"
   ]
  },
  {
   "cell_type": "code",
   "execution_count": 37,
   "metadata": {},
   "outputs": [
    {
     "data": {
      "text/plain": [
       "7.302135"
      ]
     },
     "execution_count": 37,
     "metadata": {},
     "output_type": "execute_result"
    }
   ],
   "source": [
    "# 以下のように入手したいItemと座標を定義することで値を取得できる\n",
    "nc['TMP_mea'][100][10][10]"
   ]
  },
  {
   "cell_type": "code",
   "execution_count": 8,
   "metadata": {},
   "outputs": [
    {
     "data": {
      "text/plain": [
       "masked_array(data=44295.,\n",
       "             mask=False,\n",
       "       fill_value=1e+20)"
      ]
     },
     "execution_count": 8,
     "metadata": {},
     "output_type": "execute_result"
    }
   ],
   "source": [
    "# 次元の変数をインデックスで指定するとmasked_arrayが帰ってくる\n",
    "nc['time'][100]"
   ]
  },
  {
   "cell_type": "code",
   "execution_count": 38,
   "metadata": {},
   "outputs": [
    {
     "name": "stdout",
     "output_type": "stream",
     "text": [
      "44295.0\n"
     ]
    }
   ],
   "source": [
    "# 型指定すると変数だけ帰ってくる\n",
    "print(float(nc['time'][100]))\n"
   ]
  },
  {
   "cell_type": "code",
   "execution_count": 39,
   "metadata": {},
   "outputs": [
    {
     "name": "stdout",
     "output_type": "stream",
     "text": [
      "2021-01-01\n"
     ]
    }
   ],
   "source": [
    "# この時帰ってくる値は1900年からの日数だから以下の式で変換可能\n",
    "from datetime import date, timedelta\n",
    "start = date(1900,1,1) \n",
    "delta = timedelta(float(nc['time'][0]))\n",
    "print(start + delta)   "
   ]
  },
  {
   "cell_type": "markdown",
   "metadata": {},
   "source": [
    "# 1.解析対象ポリゴンの読み込み\n"
   ]
  },
  {
   "cell_type": "markdown",
   "metadata": {},
   "source": [
    "xarrayで圃場の位置で値を抽出するためポリゴンの位置をxarrayで’利用できる形に変更"
   ]
  },
  {
   "cell_type": "code",
   "execution_count": 12,
   "metadata": {},
   "outputs": [],
   "source": [
    "import geopandas as gpd\n",
    "df496 = gpd.read_file('/workspaces/akita_daizu/data/496+120圃場.geojson')"
   ]
  },
  {
   "cell_type": "code",
   "execution_count": 13,
   "metadata": {},
   "outputs": [
    {
     "data": {
      "text/html": [
       "<div>\n",
       "<style scoped>\n",
       "    .dataframe tbody tr th:only-of-type {\n",
       "        vertical-align: middle;\n",
       "    }\n",
       "\n",
       "    .dataframe tbody tr th {\n",
       "        vertical-align: top;\n",
       "    }\n",
       "\n",
       "    .dataframe thead th {\n",
       "        text-align: right;\n",
       "    }\n",
       "</style>\n",
       "<table border=\"1\" class=\"dataframe\">\n",
       "  <thead>\n",
       "    <tr style=\"text-align: right;\">\n",
       "      <th></th>\n",
       "      <th>id</th>\n",
       "      <th>Address</th>\n",
       "      <th>CityCode</th>\n",
       "      <th>Address_2</th>\n",
       "      <th>LandCatego</th>\n",
       "      <th>Area</th>\n",
       "      <th>Agricult_1</th>\n",
       "      <th>Jurisdicti</th>\n",
       "      <th>名前_漢</th>\n",
       "      <th>作付年</th>\n",
       "      <th>...</th>\n",
       "      <th>Unnamed_ 1</th>\n",
       "      <th>作物名</th>\n",
       "      <th>転作利?</th>\n",
       "      <th>転作??</th>\n",
       "      <th>地権者_</th>\n",
       "      <th>播種月?</th>\n",
       "      <th>sensor_loc</th>\n",
       "      <th>distance</th>\n",
       "      <th>uniqueID</th>\n",
       "      <th>geometry</th>\n",
       "    </tr>\n",
       "  </thead>\n",
       "  <tbody>\n",
       "    <tr>\n",
       "      <th>0</th>\n",
       "      <td>05100030469-068904</td>\n",
       "      <td>秋田県八峰町峰浜沼田坊塚下1-6</td>\n",
       "      <td>53490.0</td>\n",
       "      <td>秋田県八峰町峰浜沼田坊塚下1-6</td>\n",
       "      <td>1.0</td>\n",
       "      <td>1774.0</td>\n",
       "      <td>農業振興地域内・農用地区域内</td>\n",
       "      <td>八峰町農業委員会</td>\n",
       "      <td>斉藤　モヨ</td>\n",
       "      <td>None</td>\n",
       "      <td>...</td>\n",
       "      <td>17.03</td>\n",
       "      <td>大豆</td>\n",
       "      <td>農事組合法人八峰アグリプロ</td>\n",
       "      <td>峰浜石川字外林３３‐１６</td>\n",
       "      <td>斉藤　忠雄</td>\n",
       "      <td>7月4日</td>\n",
       "      <td>NaN</td>\n",
       "      <td>1650.0</td>\n",
       "      <td>3.0</td>\n",
       "      <td>MULTIPOLYGON (((-68939.306 30479.236, -68939.1...</td>\n",
       "    </tr>\n",
       "    <tr>\n",
       "      <th>1</th>\n",
       "      <td>05100031429-064065</td>\n",
       "      <td>秋田県八峰町峰浜塙下才神187</td>\n",
       "      <td>53490.0</td>\n",
       "      <td>秋田県八峰町峰浜塙下才神187</td>\n",
       "      <td>1.0</td>\n",
       "      <td>3012.0</td>\n",
       "      <td>農業振興地域内・農用地区域内</td>\n",
       "      <td>八峰町農業委員会</td>\n",
       "      <td>藤嶋　久徳</td>\n",
       "      <td>None</td>\n",
       "      <td>...</td>\n",
       "      <td>28.91</td>\n",
       "      <td>大豆</td>\n",
       "      <td>農事組合法人八峰アグリプロ</td>\n",
       "      <td>峰浜石川字外林３３‐１６</td>\n",
       "      <td>高杉　良一</td>\n",
       "      <td>6月27日</td>\n",
       "      <td>NaN</td>\n",
       "      <td>15875.0</td>\n",
       "      <td>104.0</td>\n",
       "      <td>MULTIPOLYGON (((-64111.887 31451.133, -64103.7...</td>\n",
       "    </tr>\n",
       "    <tr>\n",
       "      <th>2</th>\n",
       "      <td>05100031451-064046</td>\n",
       "      <td>秋田県八峰町峰浜塙下才神186</td>\n",
       "      <td>53490.0</td>\n",
       "      <td>秋田県八峰町峰浜塙下才神186</td>\n",
       "      <td>1.0</td>\n",
       "      <td>2936.0</td>\n",
       "      <td>農業振興地域内・農用地区域内</td>\n",
       "      <td>八峰町農業委員会</td>\n",
       "      <td>藤嶋　久徳</td>\n",
       "      <td>None</td>\n",
       "      <td>...</td>\n",
       "      <td>28.18</td>\n",
       "      <td>大豆</td>\n",
       "      <td>農事組合法人八峰アグリプロ</td>\n",
       "      <td>峰浜石川字外林３３‐１６</td>\n",
       "      <td>高杉　良一</td>\n",
       "      <td>6月27日</td>\n",
       "      <td>NaN</td>\n",
       "      <td>15900.0</td>\n",
       "      <td>105.0</td>\n",
       "      <td>MULTIPOLYGON (((-64073.617 31493.233, -64015.1...</td>\n",
       "    </tr>\n",
       "    <tr>\n",
       "      <th>3</th>\n",
       "      <td>05100031472-064026</td>\n",
       "      <td>秋田県八峰町峰浜塙下才神185</td>\n",
       "      <td>53490.0</td>\n",
       "      <td>秋田県八峰町峰浜塙下才神185</td>\n",
       "      <td>1.0</td>\n",
       "      <td>1324.0</td>\n",
       "      <td>農業振興地域内・農用地区域内</td>\n",
       "      <td>八峰町農業委員会</td>\n",
       "      <td>藤嶋　久徳</td>\n",
       "      <td>None</td>\n",
       "      <td>...</td>\n",
       "      <td>12.71</td>\n",
       "      <td>大豆</td>\n",
       "      <td>農事組合法人八峰アグリプロ</td>\n",
       "      <td>峰浜石川字外林３３‐１６</td>\n",
       "      <td>高杉　良一</td>\n",
       "      <td>6月27日</td>\n",
       "      <td>NaN</td>\n",
       "      <td>15925.0</td>\n",
       "      <td>106.0</td>\n",
       "      <td>MULTIPOLYGON (((-64073.113 31494.343, -64054.1...</td>\n",
       "    </tr>\n",
       "    <tr>\n",
       "      <th>4</th>\n",
       "      <td>05100030885-068966</td>\n",
       "      <td>秋田県八峰町峰浜沼田黒トフ5-2</td>\n",
       "      <td>53490.0</td>\n",
       "      <td>秋田県八峰町峰浜沼田黒トフ5-2</td>\n",
       "      <td>1.0</td>\n",
       "      <td>1239.0</td>\n",
       "      <td>農業振興地域内・農用地区域内</td>\n",
       "      <td>八峰町農業委員会</td>\n",
       "      <td>小林　信夫</td>\n",
       "      <td>None</td>\n",
       "      <td>...</td>\n",
       "      <td>55.02</td>\n",
       "      <td>大豆</td>\n",
       "      <td>農事組合法人八峰アグリプロ</td>\n",
       "      <td>峰浜石川字外林３３‐１６</td>\n",
       "      <td>小林　信夫</td>\n",
       "      <td>7月4日</td>\n",
       "      <td>NaN</td>\n",
       "      <td>2075.0</td>\n",
       "      <td>10.0</td>\n",
       "      <td>MULTIPOLYGON (((-69035.773 30908.971, -68897.4...</td>\n",
       "    </tr>\n",
       "    <tr>\n",
       "      <th>...</th>\n",
       "      <td>...</td>\n",
       "      <td>...</td>\n",
       "      <td>...</td>\n",
       "      <td>...</td>\n",
       "      <td>...</td>\n",
       "      <td>...</td>\n",
       "      <td>...</td>\n",
       "      <td>...</td>\n",
       "      <td>...</td>\n",
       "      <td>...</td>\n",
       "      <td>...</td>\n",
       "      <td>...</td>\n",
       "      <td>...</td>\n",
       "      <td>...</td>\n",
       "      <td>...</td>\n",
       "      <td>...</td>\n",
       "      <td>...</td>\n",
       "      <td>...</td>\n",
       "      <td>...</td>\n",
       "      <td>...</td>\n",
       "      <td>...</td>\n",
       "    </tr>\n",
       "    <tr>\n",
       "      <th>491</th>\n",
       "      <td>05100034652-067022</td>\n",
       "      <td>秋田県八峰町峰浜目名潟中渡上台178</td>\n",
       "      <td>NaN</td>\n",
       "      <td>None</td>\n",
       "      <td>NaN</td>\n",
       "      <td>NaN</td>\n",
       "      <td>None</td>\n",
       "      <td>None</td>\n",
       "      <td>None</td>\n",
       "      <td>None</td>\n",
       "      <td>...</td>\n",
       "      <td>NaN</td>\n",
       "      <td>None</td>\n",
       "      <td>None</td>\n",
       "      <td>None</td>\n",
       "      <td>None</td>\n",
       "      <td>None</td>\n",
       "      <td>NaN</td>\n",
       "      <td>NaN</td>\n",
       "      <td>NaN</td>\n",
       "      <td>MULTIPOLYGON (((-67070.418 34623.648, -67073.4...</td>\n",
       "    </tr>\n",
       "    <tr>\n",
       "      <th>492</th>\n",
       "      <td>05100030625-063981</td>\n",
       "      <td>秋田県八峰町峰浜石川外林308</td>\n",
       "      <td>NaN</td>\n",
       "      <td>None</td>\n",
       "      <td>NaN</td>\n",
       "      <td>NaN</td>\n",
       "      <td>None</td>\n",
       "      <td>None</td>\n",
       "      <td>None</td>\n",
       "      <td>None</td>\n",
       "      <td>...</td>\n",
       "      <td>NaN</td>\n",
       "      <td>None</td>\n",
       "      <td>None</td>\n",
       "      <td>None</td>\n",
       "      <td>None</td>\n",
       "      <td>None</td>\n",
       "      <td>NaN</td>\n",
       "      <td>NaN</td>\n",
       "      <td>NaN</td>\n",
       "      <td>MULTIPOLYGON (((-63934.691 30645.134, -63940.3...</td>\n",
       "    </tr>\n",
       "    <tr>\n",
       "      <th>493</th>\n",
       "      <td>05100032510-064783</td>\n",
       "      <td>秋田県八峰町峰浜塙館越89-1</td>\n",
       "      <td>NaN</td>\n",
       "      <td>None</td>\n",
       "      <td>NaN</td>\n",
       "      <td>NaN</td>\n",
       "      <td>None</td>\n",
       "      <td>None</td>\n",
       "      <td>None</td>\n",
       "      <td>None</td>\n",
       "      <td>...</td>\n",
       "      <td>NaN</td>\n",
       "      <td>None</td>\n",
       "      <td>None</td>\n",
       "      <td>None</td>\n",
       "      <td>None</td>\n",
       "      <td>None</td>\n",
       "      <td>NaN</td>\n",
       "      <td>NaN</td>\n",
       "      <td>NaN</td>\n",
       "      <td>MULTIPOLYGON (((-64812.589 32475.961, -64812.6...</td>\n",
       "    </tr>\n",
       "    <tr>\n",
       "      <th>494</th>\n",
       "      <td>05100033587-064704</td>\n",
       "      <td>秋田県八峰町峰浜塙野田堤下1-6</td>\n",
       "      <td>NaN</td>\n",
       "      <td>None</td>\n",
       "      <td>NaN</td>\n",
       "      <td>NaN</td>\n",
       "      <td>None</td>\n",
       "      <td>None</td>\n",
       "      <td>None</td>\n",
       "      <td>None</td>\n",
       "      <td>...</td>\n",
       "      <td>NaN</td>\n",
       "      <td>None</td>\n",
       "      <td>None</td>\n",
       "      <td>None</td>\n",
       "      <td>None</td>\n",
       "      <td>None</td>\n",
       "      <td>NaN</td>\n",
       "      <td>NaN</td>\n",
       "      <td>NaN</td>\n",
       "      <td>MULTIPOLYGON (((-64679.722 33567.396, -64728.0...</td>\n",
       "    </tr>\n",
       "    <tr>\n",
       "      <th>495</th>\n",
       "      <td>05100029768-064990</td>\n",
       "      <td>秋田県八峰町峰浜小手萩萩田面18</td>\n",
       "      <td>NaN</td>\n",
       "      <td>None</td>\n",
       "      <td>NaN</td>\n",
       "      <td>NaN</td>\n",
       "      <td>None</td>\n",
       "      <td>None</td>\n",
       "      <td>None</td>\n",
       "      <td>None</td>\n",
       "      <td>...</td>\n",
       "      <td>NaN</td>\n",
       "      <td>None</td>\n",
       "      <td>None</td>\n",
       "      <td>None</td>\n",
       "      <td>None</td>\n",
       "      <td>None</td>\n",
       "      <td>NaN</td>\n",
       "      <td>NaN</td>\n",
       "      <td>NaN</td>\n",
       "      <td>MULTIPOLYGON (((-64997.892 29791.001, -64995.1...</td>\n",
       "    </tr>\n",
       "  </tbody>\n",
       "</table>\n",
       "<p>496 rows × 24 columns</p>\n",
       "</div>"
      ],
      "text/plain": [
       "                     id             Address  CityCode         Address_2  \\\n",
       "0    05100030469-068904    秋田県八峰町峰浜沼田坊塚下1-6   53490.0  秋田県八峰町峰浜沼田坊塚下1-6   \n",
       "1    05100031429-064065     秋田県八峰町峰浜塙下才神187   53490.0   秋田県八峰町峰浜塙下才神187   \n",
       "2    05100031451-064046     秋田県八峰町峰浜塙下才神186   53490.0   秋田県八峰町峰浜塙下才神186   \n",
       "3    05100031472-064026     秋田県八峰町峰浜塙下才神185   53490.0   秋田県八峰町峰浜塙下才神185   \n",
       "4    05100030885-068966    秋田県八峰町峰浜沼田黒トフ5-2   53490.0  秋田県八峰町峰浜沼田黒トフ5-2   \n",
       "..                  ...                 ...       ...               ...   \n",
       "491  05100034652-067022  秋田県八峰町峰浜目名潟中渡上台178       NaN              None   \n",
       "492  05100030625-063981     秋田県八峰町峰浜石川外林308       NaN              None   \n",
       "493  05100032510-064783     秋田県八峰町峰浜塙館越89-1       NaN              None   \n",
       "494  05100033587-064704    秋田県八峰町峰浜塙野田堤下1-6       NaN              None   \n",
       "495  05100029768-064990    秋田県八峰町峰浜小手萩萩田面18       NaN              None   \n",
       "\n",
       "     LandCatego    Area      Agricult_1 Jurisdicti   名前_漢   作付年  ...  \\\n",
       "0           1.0  1774.0  農業振興地域内・農用地区域内   八峰町農業委員会  斉藤　モヨ  None  ...   \n",
       "1           1.0  3012.0  農業振興地域内・農用地区域内   八峰町農業委員会  藤嶋　久徳  None  ...   \n",
       "2           1.0  2936.0  農業振興地域内・農用地区域内   八峰町農業委員会  藤嶋　久徳  None  ...   \n",
       "3           1.0  1324.0  農業振興地域内・農用地区域内   八峰町農業委員会  藤嶋　久徳  None  ...   \n",
       "4           1.0  1239.0  農業振興地域内・農用地区域内   八峰町農業委員会  小林　信夫  None  ...   \n",
       "..          ...     ...             ...        ...    ...   ...  ...   \n",
       "491         NaN     NaN            None       None   None  None  ...   \n",
       "492         NaN     NaN            None       None   None  None  ...   \n",
       "493         NaN     NaN            None       None   None  None  ...   \n",
       "494         NaN     NaN            None       None   None  None  ...   \n",
       "495         NaN     NaN            None       None   None  None  ...   \n",
       "\n",
       "    Unnamed_ 1   作物名           転作利?          転作??   地権者_   播種月? sensor_loc  \\\n",
       "0        17.03    大豆  農事組合法人八峰アグリプロ  峰浜石川字外林３３‐１６  斉藤　忠雄   7月4日        NaN   \n",
       "1        28.91    大豆  農事組合法人八峰アグリプロ  峰浜石川字外林３３‐１６  高杉　良一  6月27日        NaN   \n",
       "2        28.18    大豆  農事組合法人八峰アグリプロ  峰浜石川字外林３３‐１６  高杉　良一  6月27日        NaN   \n",
       "3        12.71    大豆  農事組合法人八峰アグリプロ  峰浜石川字外林３３‐１６  高杉　良一  6月27日        NaN   \n",
       "4        55.02    大豆  農事組合法人八峰アグリプロ  峰浜石川字外林３３‐１６  小林　信夫   7月4日        NaN   \n",
       "..         ...   ...            ...           ...    ...    ...        ...   \n",
       "491        NaN  None           None          None   None   None        NaN   \n",
       "492        NaN  None           None          None   None   None        NaN   \n",
       "493        NaN  None           None          None   None   None        NaN   \n",
       "494        NaN  None           None          None   None   None        NaN   \n",
       "495        NaN  None           None          None   None   None        NaN   \n",
       "\n",
       "    distance uniqueID                                           geometry  \n",
       "0     1650.0      3.0  MULTIPOLYGON (((-68939.306 30479.236, -68939.1...  \n",
       "1    15875.0    104.0  MULTIPOLYGON (((-64111.887 31451.133, -64103.7...  \n",
       "2    15900.0    105.0  MULTIPOLYGON (((-64073.617 31493.233, -64015.1...  \n",
       "3    15925.0    106.0  MULTIPOLYGON (((-64073.113 31494.343, -64054.1...  \n",
       "4     2075.0     10.0  MULTIPOLYGON (((-69035.773 30908.971, -68897.4...  \n",
       "..       ...      ...                                                ...  \n",
       "491      NaN      NaN  MULTIPOLYGON (((-67070.418 34623.648, -67073.4...  \n",
       "492      NaN      NaN  MULTIPOLYGON (((-63934.691 30645.134, -63940.3...  \n",
       "493      NaN      NaN  MULTIPOLYGON (((-64812.589 32475.961, -64812.6...  \n",
       "494      NaN      NaN  MULTIPOLYGON (((-64679.722 33567.396, -64728.0...  \n",
       "495      NaN      NaN  MULTIPOLYGON (((-64997.892 29791.001, -64995.1...  \n",
       "\n",
       "[496 rows x 24 columns]"
      ]
     },
     "execution_count": 13,
     "metadata": {},
     "output_type": "execute_result"
    }
   ],
   "source": [
    "df496"
   ]
  },
  {
   "cell_type": "code",
   "execution_count": 14,
   "metadata": {},
   "outputs": [
    {
     "data": {
      "text/html": [
       "<div>\n",
       "<style scoped>\n",
       "    .dataframe tbody tr th:only-of-type {\n",
       "        vertical-align: middle;\n",
       "    }\n",
       "\n",
       "    .dataframe tbody tr th {\n",
       "        vertical-align: top;\n",
       "    }\n",
       "\n",
       "    .dataframe thead th {\n",
       "        text-align: right;\n",
       "    }\n",
       "</style>\n",
       "<table border=\"1\" class=\"dataframe\">\n",
       "  <thead>\n",
       "    <tr style=\"text-align: right;\">\n",
       "      <th></th>\n",
       "      <th>id</th>\n",
       "      <th>Address</th>\n",
       "      <th>CityCode</th>\n",
       "      <th>Area</th>\n",
       "      <th>作付年</th>\n",
       "      <th>H23以前</th>\n",
       "      <th>耕地面?</th>\n",
       "      <th>播種月?</th>\n",
       "      <th>sensor_loc</th>\n",
       "      <th>uniqueID</th>\n",
       "      <th>geometry</th>\n",
       "    </tr>\n",
       "  </thead>\n",
       "  <tbody>\n",
       "    <tr>\n",
       "      <th>0</th>\n",
       "      <td>05100030469-068904</td>\n",
       "      <td>秋田県八峰町峰浜沼田坊塚下1-6</td>\n",
       "      <td>53490.0</td>\n",
       "      <td>1774.0</td>\n",
       "      <td>None</td>\n",
       "      <td>?</td>\n",
       "      <td>1703.0</td>\n",
       "      <td>7月4日</td>\n",
       "      <td>NaN</td>\n",
       "      <td>3.0</td>\n",
       "      <td>MULTIPOLYGON (((-68939.306 30479.236, -68939.1...</td>\n",
       "    </tr>\n",
       "    <tr>\n",
       "      <th>1</th>\n",
       "      <td>05100031429-064065</td>\n",
       "      <td>秋田県八峰町峰浜塙下才神187</td>\n",
       "      <td>53490.0</td>\n",
       "      <td>3012.0</td>\n",
       "      <td>None</td>\n",
       "      <td>?</td>\n",
       "      <td>2891.0</td>\n",
       "      <td>6月27日</td>\n",
       "      <td>NaN</td>\n",
       "      <td>104.0</td>\n",
       "      <td>MULTIPOLYGON (((-64111.887 31451.133, -64103.7...</td>\n",
       "    </tr>\n",
       "    <tr>\n",
       "      <th>2</th>\n",
       "      <td>05100031451-064046</td>\n",
       "      <td>秋田県八峰町峰浜塙下才神186</td>\n",
       "      <td>53490.0</td>\n",
       "      <td>2936.0</td>\n",
       "      <td>None</td>\n",
       "      <td>?</td>\n",
       "      <td>2818.0</td>\n",
       "      <td>6月27日</td>\n",
       "      <td>NaN</td>\n",
       "      <td>105.0</td>\n",
       "      <td>MULTIPOLYGON (((-64073.617 31493.233, -64015.1...</td>\n",
       "    </tr>\n",
       "    <tr>\n",
       "      <th>3</th>\n",
       "      <td>05100031472-064026</td>\n",
       "      <td>秋田県八峰町峰浜塙下才神185</td>\n",
       "      <td>53490.0</td>\n",
       "      <td>1324.0</td>\n",
       "      <td>None</td>\n",
       "      <td>?</td>\n",
       "      <td>1271.0</td>\n",
       "      <td>6月27日</td>\n",
       "      <td>NaN</td>\n",
       "      <td>106.0</td>\n",
       "      <td>MULTIPOLYGON (((-64073.113 31494.343, -64054.1...</td>\n",
       "    </tr>\n",
       "    <tr>\n",
       "      <th>4</th>\n",
       "      <td>05100030885-068966</td>\n",
       "      <td>秋田県八峰町峰浜沼田黒トフ5-2</td>\n",
       "      <td>53490.0</td>\n",
       "      <td>1239.0</td>\n",
       "      <td>None</td>\n",
       "      <td>?</td>\n",
       "      <td>5502.0</td>\n",
       "      <td>7月4日</td>\n",
       "      <td>NaN</td>\n",
       "      <td>10.0</td>\n",
       "      <td>MULTIPOLYGON (((-69035.773 30908.971, -68897.4...</td>\n",
       "    </tr>\n",
       "    <tr>\n",
       "      <th>...</th>\n",
       "      <td>...</td>\n",
       "      <td>...</td>\n",
       "      <td>...</td>\n",
       "      <td>...</td>\n",
       "      <td>...</td>\n",
       "      <td>...</td>\n",
       "      <td>...</td>\n",
       "      <td>...</td>\n",
       "      <td>...</td>\n",
       "      <td>...</td>\n",
       "      <td>...</td>\n",
       "    </tr>\n",
       "    <tr>\n",
       "      <th>491</th>\n",
       "      <td>05100034652-067022</td>\n",
       "      <td>秋田県八峰町峰浜目名潟中渡上台178</td>\n",
       "      <td>NaN</td>\n",
       "      <td>NaN</td>\n",
       "      <td>None</td>\n",
       "      <td>None</td>\n",
       "      <td>NaN</td>\n",
       "      <td>None</td>\n",
       "      <td>NaN</td>\n",
       "      <td>NaN</td>\n",
       "      <td>MULTIPOLYGON (((-67070.418 34623.648, -67073.4...</td>\n",
       "    </tr>\n",
       "    <tr>\n",
       "      <th>492</th>\n",
       "      <td>05100030625-063981</td>\n",
       "      <td>秋田県八峰町峰浜石川外林308</td>\n",
       "      <td>NaN</td>\n",
       "      <td>NaN</td>\n",
       "      <td>None</td>\n",
       "      <td>None</td>\n",
       "      <td>NaN</td>\n",
       "      <td>None</td>\n",
       "      <td>NaN</td>\n",
       "      <td>NaN</td>\n",
       "      <td>MULTIPOLYGON (((-63934.691 30645.134, -63940.3...</td>\n",
       "    </tr>\n",
       "    <tr>\n",
       "      <th>493</th>\n",
       "      <td>05100032510-064783</td>\n",
       "      <td>秋田県八峰町峰浜塙館越89-1</td>\n",
       "      <td>NaN</td>\n",
       "      <td>NaN</td>\n",
       "      <td>None</td>\n",
       "      <td>None</td>\n",
       "      <td>NaN</td>\n",
       "      <td>None</td>\n",
       "      <td>NaN</td>\n",
       "      <td>NaN</td>\n",
       "      <td>MULTIPOLYGON (((-64812.589 32475.961, -64812.6...</td>\n",
       "    </tr>\n",
       "    <tr>\n",
       "      <th>494</th>\n",
       "      <td>05100033587-064704</td>\n",
       "      <td>秋田県八峰町峰浜塙野田堤下1-6</td>\n",
       "      <td>NaN</td>\n",
       "      <td>NaN</td>\n",
       "      <td>None</td>\n",
       "      <td>None</td>\n",
       "      <td>NaN</td>\n",
       "      <td>None</td>\n",
       "      <td>NaN</td>\n",
       "      <td>NaN</td>\n",
       "      <td>MULTIPOLYGON (((-64679.722 33567.396, -64728.0...</td>\n",
       "    </tr>\n",
       "    <tr>\n",
       "      <th>495</th>\n",
       "      <td>05100029768-064990</td>\n",
       "      <td>秋田県八峰町峰浜小手萩萩田面18</td>\n",
       "      <td>NaN</td>\n",
       "      <td>NaN</td>\n",
       "      <td>None</td>\n",
       "      <td>None</td>\n",
       "      <td>NaN</td>\n",
       "      <td>None</td>\n",
       "      <td>NaN</td>\n",
       "      <td>NaN</td>\n",
       "      <td>MULTIPOLYGON (((-64997.892 29791.001, -64995.1...</td>\n",
       "    </tr>\n",
       "  </tbody>\n",
       "</table>\n",
       "<p>496 rows × 11 columns</p>\n",
       "</div>"
      ],
      "text/plain": [
       "                     id             Address  CityCode    Area   作付年 H23以前  \\\n",
       "0    05100030469-068904    秋田県八峰町峰浜沼田坊塚下1-6   53490.0  1774.0  None     ?   \n",
       "1    05100031429-064065     秋田県八峰町峰浜塙下才神187   53490.0  3012.0  None     ?   \n",
       "2    05100031451-064046     秋田県八峰町峰浜塙下才神186   53490.0  2936.0  None     ?   \n",
       "3    05100031472-064026     秋田県八峰町峰浜塙下才神185   53490.0  1324.0  None     ?   \n",
       "4    05100030885-068966    秋田県八峰町峰浜沼田黒トフ5-2   53490.0  1239.0  None     ?   \n",
       "..                  ...                 ...       ...     ...   ...   ...   \n",
       "491  05100034652-067022  秋田県八峰町峰浜目名潟中渡上台178       NaN     NaN  None  None   \n",
       "492  05100030625-063981     秋田県八峰町峰浜石川外林308       NaN     NaN  None  None   \n",
       "493  05100032510-064783     秋田県八峰町峰浜塙館越89-1       NaN     NaN  None  None   \n",
       "494  05100033587-064704    秋田県八峰町峰浜塙野田堤下1-6       NaN     NaN  None  None   \n",
       "495  05100029768-064990    秋田県八峰町峰浜小手萩萩田面18       NaN     NaN  None  None   \n",
       "\n",
       "       耕地面?   播種月?  sensor_loc  uniqueID  \\\n",
       "0    1703.0   7月4日         NaN       3.0   \n",
       "1    2891.0  6月27日         NaN     104.0   \n",
       "2    2818.0  6月27日         NaN     105.0   \n",
       "3    1271.0  6月27日         NaN     106.0   \n",
       "4    5502.0   7月4日         NaN      10.0   \n",
       "..      ...    ...         ...       ...   \n",
       "491     NaN   None         NaN       NaN   \n",
       "492     NaN   None         NaN       NaN   \n",
       "493     NaN   None         NaN       NaN   \n",
       "494     NaN   None         NaN       NaN   \n",
       "495     NaN   None         NaN       NaN   \n",
       "\n",
       "                                              geometry  \n",
       "0    MULTIPOLYGON (((-68939.306 30479.236, -68939.1...  \n",
       "1    MULTIPOLYGON (((-64111.887 31451.133, -64103.7...  \n",
       "2    MULTIPOLYGON (((-64073.617 31493.233, -64015.1...  \n",
       "3    MULTIPOLYGON (((-64073.113 31494.343, -64054.1...  \n",
       "4    MULTIPOLYGON (((-69035.773 30908.971, -68897.4...  \n",
       "..                                                 ...  \n",
       "491  MULTIPOLYGON (((-67070.418 34623.648, -67073.4...  \n",
       "492  MULTIPOLYGON (((-63934.691 30645.134, -63940.3...  \n",
       "493  MULTIPOLYGON (((-64812.589 32475.961, -64812.6...  \n",
       "494  MULTIPOLYGON (((-64679.722 33567.396, -64728.0...  \n",
       "495  MULTIPOLYGON (((-64997.892 29791.001, -64995.1...  \n",
       "\n",
       "[496 rows x 11 columns]"
      ]
     },
     "execution_count": 14,
     "metadata": {},
     "output_type": "execute_result"
    }
   ],
   "source": [
    "# 水田面積と耕地面積は同じ値なので削除、他にも解析に利用しない列は削除\n",
    "df496_min = df496.drop(['Agricult_1', 'Jurisdicti', '名前_漢','LandCatego','転作??','転作利?','Address_2','地権者_','Unnamed_ 1','distance','水田面?','作物等?','作物名' ], axis=1)\n",
    "df496_min"
   ]
  },
  {
   "cell_type": "code",
   "execution_count": 15,
   "metadata": {},
   "outputs": [
    {
     "data": {
      "text/plain": [
       "<Projected CRS: EPSG:6678>\n",
       "Name: JGD2011 / Japan Plane Rectangular CS X\n",
       "Axis Info [cartesian]:\n",
       "- X[north]: Northing (metre)\n",
       "- Y[east]: Easting (metre)\n",
       "Area of Use:\n",
       "- name: Japan - zone X\n",
       "- bounds: (139.49, 37.73, 142.14, 41.58)\n",
       "Coordinate Operation:\n",
       "- name: Japan Plane Rectangular CS zone X\n",
       "- method: Transverse Mercator\n",
       "Datum: Japanese Geodetic Datum 2011\n",
       "- Ellipsoid: GRS 1980\n",
       "- Prime Meridian: Greenwich"
      ]
     },
     "execution_count": 15,
     "metadata": {},
     "output_type": "execute_result"
    }
   ],
   "source": [
    "df496_min.crs"
   ]
  },
  {
   "cell_type": "code",
   "execution_count": 16,
   "metadata": {},
   "outputs": [
    {
     "data": {
      "text/plain": [
       "<Geographic 2D CRS: EPSG:4612>\n",
       "Name: JGD2000\n",
       "Axis Info [ellipsoidal]:\n",
       "- Lat[north]: Geodetic latitude (degree)\n",
       "- Lon[east]: Geodetic longitude (degree)\n",
       "Area of Use:\n",
       "- name: Japan\n",
       "- bounds: (122.38, 17.09, 157.65, 46.05)\n",
       "Datum: Japanese Geodetic Datum 2000\n",
       "- Ellipsoid: GRS 1980\n",
       "- Prime Meridian: Greenwich"
      ]
     },
     "execution_count": 16,
     "metadata": {},
     "output_type": "execute_result"
    }
   ],
   "source": [
    "# crsが平面直角座標系だからメッシュデータに合わせる\n",
    "df496_min = df496_min.to_crs(\"EPSG:4612\")\n",
    "df496_min.crs"
   ]
  },
  {
   "cell_type": "code",
   "execution_count": 17,
   "metadata": {},
   "outputs": [
    {
     "name": "stderr",
     "output_type": "stream",
     "text": [
      "/tmp/ipykernel_69835/952317400.py:3: UserWarning: Geometry is in a geographic CRS. Results from 'centroid' are likely incorrect. Use 'GeoSeries.to_crs()' to re-project geometries to a projected CRS before this operation.\n",
      "\n",
      "  df496_min_xy['lon'] = (df496_min_xy['geometry'].centroid.x)\n",
      "/tmp/ipykernel_69835/952317400.py:4: UserWarning: Geometry is in a geographic CRS. Results from 'centroid' are likely incorrect. Use 'GeoSeries.to_crs()' to re-project geometries to a projected CRS before this operation.\n",
      "\n",
      "  df496_min_xy['lat'] = (df496_min_xy['geometry'].centroid.y)\n"
     ]
    }
   ],
   "source": [
    "# 圃場ポリゴンの重心を求めて新たな列に定義\n",
    "df496_min_xy = df496_min\n",
    "df496_min_xy['lon'] = (df496_min_xy['geometry'].centroid.x)\n",
    "df496_min_xy['lat'] = (df496_min_xy['geometry'].centroid.y)"
   ]
  },
  {
   "cell_type": "markdown",
   "metadata": {},
   "source": [
    "# 2.xarrayでの読み込み"
   ]
  },
  {
   "cell_type": "code",
   "execution_count": 20,
   "metadata": {},
   "outputs": [],
   "source": [
    "import xarray as xr\n",
    "TMP_ave = xr.open_dataarray('/workspaces/akita_daizu/data/netcdf/TMP_AVE.NC')"
   ]
  },
  {
   "cell_type": "code",
   "execution_count": 21,
   "metadata": {},
   "outputs": [],
   "source": [
    "TMP_mea = xr.open_dataarray('/workspaces/akita_daizu/data/netcdf/TMP_mea.NC')"
   ]
  },
  {
   "cell_type": "code",
   "execution_count": 22,
   "metadata": {},
   "outputs": [],
   "source": [
    "#  ここXarrayの機能でもっと合理的に表示できないか？\n",
    "# DataarrayからDF作成　各ｘｙごとにArray抽出してDFにappendする\n",
    "import pandas as pd\n",
    "dfObj = pd.DataFrame()\n",
    "for i in range (496):\n",
    "    lat1 = df496_min_xy['lat'][i]\n",
    "    lon1 = df496_min_xy['lon'][i]\n",
    "    location_df = TMP_mea.sel(lat=lat1, lon=lon1, method=\"nearest\").to_dataframe()\n",
    "    dfObj = dfObj.append(location_df)"
   ]
  },
  {
   "cell_type": "code",
   "execution_count": 23,
   "metadata": {},
   "outputs": [],
   "source": [
    "# group 化しやすくするためlatlon接続\n",
    "dfObj['xy'] = dfObj['lat'].astype(str) + ',' + dfObj['lon'].astype(str)\n"
   ]
  },
  {
   "cell_type": "code",
   "execution_count": 24,
   "metadata": {},
   "outputs": [],
   "source": [
    "# indexがtimeになってしまう　とりあえずここでtimeを列にも追加\n",
    "dfObj['time'] = dfObj.index\n",
    "dfObj['time'] = pd.to_datetime(dfObj['time'])"
   ]
  },
  {
   "cell_type": "code",
   "execution_count": 25,
   "metadata": {},
   "outputs": [
    {
     "data": {
      "text/html": [
       "<div>\n",
       "<style scoped>\n",
       "    .dataframe tbody tr th:only-of-type {\n",
       "        vertical-align: middle;\n",
       "    }\n",
       "\n",
       "    .dataframe tbody tr th {\n",
       "        vertical-align: top;\n",
       "    }\n",
       "\n",
       "    .dataframe thead th {\n",
       "        text-align: right;\n",
       "    }\n",
       "</style>\n",
       "<table border=\"1\" class=\"dataframe\">\n",
       "  <thead>\n",
       "    <tr style=\"text-align: right;\">\n",
       "      <th></th>\n",
       "      <th>lat</th>\n",
       "      <th>lon</th>\n",
       "      <th>TMP_mea</th>\n",
       "      <th>xy</th>\n",
       "      <th>time</th>\n",
       "    </tr>\n",
       "    <tr>\n",
       "      <th>time</th>\n",
       "      <th></th>\n",
       "      <th></th>\n",
       "      <th></th>\n",
       "      <th></th>\n",
       "      <th></th>\n",
       "    </tr>\n",
       "  </thead>\n",
       "  <tbody>\n",
       "    <tr>\n",
       "      <th>2021-01-01</th>\n",
       "      <td>40.270832</td>\n",
       "      <td>140.018753</td>\n",
       "      <td>-3.726170</td>\n",
       "      <td>40.270832,140.01875</td>\n",
       "      <td>2021-01-01</td>\n",
       "    </tr>\n",
       "    <tr>\n",
       "      <th>2021-01-02</th>\n",
       "      <td>40.270832</td>\n",
       "      <td>140.018753</td>\n",
       "      <td>-3.846061</td>\n",
       "      <td>40.270832,140.01875</td>\n",
       "      <td>2021-01-02</td>\n",
       "    </tr>\n",
       "    <tr>\n",
       "      <th>2021-01-03</th>\n",
       "      <td>40.270832</td>\n",
       "      <td>140.018753</td>\n",
       "      <td>-1.335601</td>\n",
       "      <td>40.270832,140.01875</td>\n",
       "      <td>2021-01-03</td>\n",
       "    </tr>\n",
       "    <tr>\n",
       "      <th>2021-01-04</th>\n",
       "      <td>40.270832</td>\n",
       "      <td>140.018753</td>\n",
       "      <td>-0.623385</td>\n",
       "      <td>40.270832,140.01875</td>\n",
       "      <td>2021-01-04</td>\n",
       "    </tr>\n",
       "    <tr>\n",
       "      <th>2021-01-05</th>\n",
       "      <td>40.270832</td>\n",
       "      <td>140.018753</td>\n",
       "      <td>-2.204713</td>\n",
       "      <td>40.270832,140.01875</td>\n",
       "      <td>2021-01-05</td>\n",
       "    </tr>\n",
       "    <tr>\n",
       "      <th>...</th>\n",
       "      <td>...</td>\n",
       "      <td>...</td>\n",
       "      <td>...</td>\n",
       "      <td>...</td>\n",
       "      <td>...</td>\n",
       "    </tr>\n",
       "    <tr>\n",
       "      <th>2021-11-16</th>\n",
       "      <td>40.262501</td>\n",
       "      <td>140.068756</td>\n",
       "      <td>9.113413</td>\n",
       "      <td>40.2625,140.06876</td>\n",
       "      <td>2021-11-16</td>\n",
       "    </tr>\n",
       "    <tr>\n",
       "      <th>2021-11-17</th>\n",
       "      <td>40.262501</td>\n",
       "      <td>140.068756</td>\n",
       "      <td>8.128583</td>\n",
       "      <td>40.2625,140.06876</td>\n",
       "      <td>2021-11-17</td>\n",
       "    </tr>\n",
       "    <tr>\n",
       "      <th>2021-11-18</th>\n",
       "      <td>40.262501</td>\n",
       "      <td>140.068756</td>\n",
       "      <td>7.854720</td>\n",
       "      <td>40.2625,140.06876</td>\n",
       "      <td>2021-11-18</td>\n",
       "    </tr>\n",
       "    <tr>\n",
       "      <th>2021-11-19</th>\n",
       "      <td>40.262501</td>\n",
       "      <td>140.068756</td>\n",
       "      <td>12.140203</td>\n",
       "      <td>40.2625,140.06876</td>\n",
       "      <td>2021-11-19</td>\n",
       "    </tr>\n",
       "    <tr>\n",
       "      <th>2021-11-20</th>\n",
       "      <td>40.262501</td>\n",
       "      <td>140.068756</td>\n",
       "      <td>6.896340</td>\n",
       "      <td>40.2625,140.06876</td>\n",
       "      <td>2021-11-20</td>\n",
       "    </tr>\n",
       "  </tbody>\n",
       "</table>\n",
       "<p>160704 rows × 5 columns</p>\n",
       "</div>"
      ],
      "text/plain": [
       "                  lat         lon    TMP_mea                   xy       time\n",
       "time                                                                        \n",
       "2021-01-01  40.270832  140.018753  -3.726170  40.270832,140.01875 2021-01-01\n",
       "2021-01-02  40.270832  140.018753  -3.846061  40.270832,140.01875 2021-01-02\n",
       "2021-01-03  40.270832  140.018753  -1.335601  40.270832,140.01875 2021-01-03\n",
       "2021-01-04  40.270832  140.018753  -0.623385  40.270832,140.01875 2021-01-04\n",
       "2021-01-05  40.270832  140.018753  -2.204713  40.270832,140.01875 2021-01-05\n",
       "...               ...         ...        ...                  ...        ...\n",
       "2021-11-16  40.262501  140.068756   9.113413    40.2625,140.06876 2021-11-16\n",
       "2021-11-17  40.262501  140.068756   8.128583    40.2625,140.06876 2021-11-17\n",
       "2021-11-18  40.262501  140.068756   7.854720    40.2625,140.06876 2021-11-18\n",
       "2021-11-19  40.262501  140.068756  12.140203    40.2625,140.06876 2021-11-19\n",
       "2021-11-20  40.262501  140.068756   6.896340    40.2625,140.06876 2021-11-20\n",
       "\n",
       "[160704 rows x 5 columns]"
      ]
     },
     "execution_count": 25,
     "metadata": {},
     "output_type": "execute_result"
    }
   ],
   "source": [
    "# このDFを図化する\n",
    "dfObj"
   ]
  },
  {
   "cell_type": "code",
   "execution_count": 27,
   "metadata": {},
   "outputs": [
    {
     "data": {
      "text/plain": [
       "<pandas.core.groupby.generic.DataFrameGroupBy object at 0xffff3e3e1700>"
      ]
     },
     "execution_count": 27,
     "metadata": {},
     "output_type": "execute_result"
    }
   ],
   "source": [
    "# 座標(xy)が496箇所あって　それぞれの箇所の一年間の気温の変化なので、xyでグループ分けするとある地点の一年間の気温のデータが出てくる\n",
    "dfObj.groupby('xy')"
   ]
  },
  {
   "cell_type": "code",
   "execution_count": 30,
   "metadata": {},
   "outputs": [
    {
     "data": {
      "text/html": [
       "<div>\n",
       "<style scoped>\n",
       "    .dataframe tbody tr th:only-of-type {\n",
       "        vertical-align: middle;\n",
       "    }\n",
       "\n",
       "    .dataframe tbody tr th {\n",
       "        vertical-align: top;\n",
       "    }\n",
       "\n",
       "    .dataframe thead th {\n",
       "        text-align: right;\n",
       "    }\n",
       "</style>\n",
       "<table border=\"1\" class=\"dataframe\">\n",
       "  <thead>\n",
       "    <tr style=\"text-align: right;\">\n",
       "      <th></th>\n",
       "      <th>lat</th>\n",
       "      <th>lon</th>\n",
       "      <th>TMP_mea</th>\n",
       "      <th>xy</th>\n",
       "      <th>time</th>\n",
       "    </tr>\n",
       "    <tr>\n",
       "      <th>time</th>\n",
       "      <th></th>\n",
       "      <th></th>\n",
       "      <th></th>\n",
       "      <th></th>\n",
       "      <th></th>\n",
       "    </tr>\n",
       "  </thead>\n",
       "  <tbody>\n",
       "    <tr>\n",
       "      <th>2021-01-01</th>\n",
       "      <td>40.270832</td>\n",
       "      <td>140.018753</td>\n",
       "      <td>-3.726170</td>\n",
       "      <td>40.270832,140.01875</td>\n",
       "      <td>2021-01-01</td>\n",
       "    </tr>\n",
       "    <tr>\n",
       "      <th>2021-01-02</th>\n",
       "      <td>40.270832</td>\n",
       "      <td>140.018753</td>\n",
       "      <td>-3.846061</td>\n",
       "      <td>40.270832,140.01875</td>\n",
       "      <td>2021-01-02</td>\n",
       "    </tr>\n",
       "    <tr>\n",
       "      <th>2021-01-03</th>\n",
       "      <td>40.270832</td>\n",
       "      <td>140.018753</td>\n",
       "      <td>-1.335601</td>\n",
       "      <td>40.270832,140.01875</td>\n",
       "      <td>2021-01-03</td>\n",
       "    </tr>\n",
       "    <tr>\n",
       "      <th>2021-01-04</th>\n",
       "      <td>40.270832</td>\n",
       "      <td>140.018753</td>\n",
       "      <td>-0.623385</td>\n",
       "      <td>40.270832,140.01875</td>\n",
       "      <td>2021-01-04</td>\n",
       "    </tr>\n",
       "    <tr>\n",
       "      <th>2021-01-05</th>\n",
       "      <td>40.270832</td>\n",
       "      <td>140.018753</td>\n",
       "      <td>-2.204713</td>\n",
       "      <td>40.270832,140.01875</td>\n",
       "      <td>2021-01-05</td>\n",
       "    </tr>\n",
       "    <tr>\n",
       "      <th>...</th>\n",
       "      <td>...</td>\n",
       "      <td>...</td>\n",
       "      <td>...</td>\n",
       "      <td>...</td>\n",
       "      <td>...</td>\n",
       "    </tr>\n",
       "    <tr>\n",
       "      <th>2021-11-16</th>\n",
       "      <td>40.270832</td>\n",
       "      <td>140.018753</td>\n",
       "      <td>9.507534</td>\n",
       "      <td>40.270832,140.01875</td>\n",
       "      <td>2021-11-16</td>\n",
       "    </tr>\n",
       "    <tr>\n",
       "      <th>2021-11-17</th>\n",
       "      <td>40.270832</td>\n",
       "      <td>140.018753</td>\n",
       "      <td>8.541863</td>\n",
       "      <td>40.270832,140.01875</td>\n",
       "      <td>2021-11-17</td>\n",
       "    </tr>\n",
       "    <tr>\n",
       "      <th>2021-11-18</th>\n",
       "      <td>40.270832</td>\n",
       "      <td>140.018753</td>\n",
       "      <td>8.342326</td>\n",
       "      <td>40.270832,140.01875</td>\n",
       "      <td>2021-11-18</td>\n",
       "    </tr>\n",
       "    <tr>\n",
       "      <th>2021-11-19</th>\n",
       "      <td>40.270832</td>\n",
       "      <td>140.018753</td>\n",
       "      <td>12.516995</td>\n",
       "      <td>40.270832,140.01875</td>\n",
       "      <td>2021-11-19</td>\n",
       "    </tr>\n",
       "    <tr>\n",
       "      <th>2021-11-20</th>\n",
       "      <td>40.270832</td>\n",
       "      <td>140.018753</td>\n",
       "      <td>7.327667</td>\n",
       "      <td>40.270832,140.01875</td>\n",
       "      <td>2021-11-20</td>\n",
       "    </tr>\n",
       "  </tbody>\n",
       "</table>\n",
       "<p>4212 rows × 5 columns</p>\n",
       "</div>"
      ],
      "text/plain": [
       "                  lat         lon    TMP_mea                   xy       time\n",
       "time                                                                        \n",
       "2021-01-01  40.270832  140.018753  -3.726170  40.270832,140.01875 2021-01-01\n",
       "2021-01-02  40.270832  140.018753  -3.846061  40.270832,140.01875 2021-01-02\n",
       "2021-01-03  40.270832  140.018753  -1.335601  40.270832,140.01875 2021-01-03\n",
       "2021-01-04  40.270832  140.018753  -0.623385  40.270832,140.01875 2021-01-04\n",
       "2021-01-05  40.270832  140.018753  -2.204713  40.270832,140.01875 2021-01-05\n",
       "...               ...         ...        ...                  ...        ...\n",
       "2021-11-16  40.270832  140.018753   9.507534  40.270832,140.01875 2021-11-16\n",
       "2021-11-17  40.270832  140.018753   8.541863  40.270832,140.01875 2021-11-17\n",
       "2021-11-18  40.270832  140.018753   8.342326  40.270832,140.01875 2021-11-18\n",
       "2021-11-19  40.270832  140.018753  12.516995  40.270832,140.01875 2021-11-19\n",
       "2021-11-20  40.270832  140.018753   7.327667  40.270832,140.01875 2021-11-20\n",
       "\n",
       "[4212 rows x 5 columns]"
      ]
     },
     "execution_count": 30,
     "metadata": {},
     "output_type": "execute_result"
    }
   ],
   "source": [
    "# 例えば1行目の座標の一年間の気温データはこれ\n",
    "dfObj.groupby('xy').get_group('40.270832,140.01875')"
   ]
  },
  {
   "cell_type": "markdown",
   "metadata": {},
   "source": [
    "# データのプロット"
   ]
  },
  {
   "cell_type": "markdown",
   "metadata": {},
   "source": [
    "してほしいこと   \n",
    "TMP_AVEが平年値、Tmp_meaが2021年の実際の温度  \n",
    "  \n",
    "・全部の圃場の一年間の温度変化をまとめて表示  \n",
    "\n",
    "・任意の圃場を選択するとその圃場の平年値と、２０２１年度の値が両方表示されるグラフの作成。（例えばdf496_minのindexを指定したらそのグラフを作成してくれる機能）"
   ]
  },
  {
   "cell_type": "code",
   "execution_count": null,
   "metadata": {},
   "outputs": [],
   "source": [
    "#　いか使おうとしたコードの残骸"
   ]
  },
  {
   "cell_type": "code",
   "execution_count": 102,
   "metadata": {},
   "outputs": [],
   "source": [
    "import datetime\n",
    "import numpy as np\n",
    "import matplotlib.pyplot as plt\n",
    "import matplotlib.dates as mdates\n",
    "import seaborn as sns"
   ]
  },
  {
   "cell_type": "code",
   "execution_count": 101,
   "metadata": {},
   "outputs": [
    {
     "data": {
      "image/png": "[encoded data removed]",
      "text/plain": [
       "<Figure size 432x288 with 1 Axes>"
      ]
     },
     "metadata": {
      "needs_background": "light"
     },
     "output_type": "display_data"
    }
   ],
   "source": [
    "\n",
    "ax = plt.subplot()\n",
    "ax.plot(dfObj['time'], dfObj['TMP_mea'])\n",
    "\n",
    "# Formatterでx軸の日付ラベルを月・日に設定\n",
    "xfmt = mdates.DateFormatter(\"%m/%d\")\n",
    "\n",
    "# DayLocatorで間隔を日数に\n",
    "xloc = mdates.DayLocator(1)\n",
    "\n",
    "\n",
    "ax.xaxis.set_major_locator(xloc)\n",
    "ax.xaxis.set_major_formatter(xfmt)\n",
    "\n",
    "# x軸の範囲\n",
    "ax.set_xlim(datetime.datetime(2021,1,1), datetime.datetime(2021,11,20)) \n",
    "ax.grid(True)\n",
    "plt.show()"
   ]
  },
  {
   "cell_type": "code",
   "execution_count": 90,
   "metadata": {},
   "outputs": [
    {
     "data": {
      "image/png": "[encoded data removed]",
      "text/plain": [
       "<Figure size 432x288 with 1 Axes>"
      ]
     },
     "metadata": {
      "needs_background": "light"
     },
     "output_type": "display_data"
    }
   ],
   "source": [
    "for key, grp in dfObj.groupby('xy'):\n",
    "    plt.plot(grp['TMP_mea'],label=key)\n",
    "plt.show()"
   ]
  },
  {
   "cell_type": "code",
   "execution_count": null,
   "metadata": {},
   "outputs": [],
   "source": [
    "df_2 = df.groupby('A').sum()\n"
   ]
  },
  {
   "cell_type": "code",
   "execution_count": null,
   "metadata": {},
   "outputs": [
    {
     "data": {
      "text/plain": [
       "[<matplotlib.lines.Line2D at 0xffff2f221490>]"
      ]
     },
     "execution_count": 24,
     "metadata": {},
     "output_type": "execute_result"
    },
    {
     "data": {
      "image/png": "[encoded data removed]",
      "text/plain": [
       "<Figure size 432x288 with 1 Axes>"
      ]
     },
     "metadata": {
      "needs_background": "light"
     },
     "output_type": "display_data"
    }
   ],
   "source": [
    "# xarrayの標準の機能で単品データの表示\n",
    "air1d = point_1_df_tmp_mean.isel(lat=0, lon=0)\n",
    "air1d.plot()"
   ]
  },
  {
   "cell_type": "code",
   "execution_count": 95,
   "metadata": {},
   "outputs": [
    {
     "name": "stderr",
     "output_type": "stream",
     "text": [
      "/opt/conda/lib/python3.9/site-packages/seaborn/_decorators.py:36: FutureWarning: Pass the following variables as keyword args: x, y. From version 0.12, the only valid positional argument will be `data`, and passing other arguments without an explicit keyword will result in an error or misinterpretation.\n",
      "  warnings.warn(\n"
     ]
    },
    {
     "data": {
      "image/png": "[encoded data removed]",
      "text/plain": [
       "<Figure size 432x288 with 1 Axes>"
      ]
     },
     "metadata": {
      "needs_background": "light"
     },
     "output_type": "display_data"
    }
   ],
   "source": [
    "sns.scatterplot(dfObj['time'], dfObj['TMP_mea'])\n",
    "plt.show()"
   ]
  },
  {
   "cell_type": "code",
   "execution_count": 92,
   "metadata": {},
   "outputs": [
    {
     "data": {
      "text/plain": [
       "<AxesSubplot:xlabel='time', ylabel='TMP_mea'>"
      ]
     },
     "execution_count": 92,
     "metadata": {},
     "output_type": "execute_result"
    },
    {
     "data": {
      "image/png": "[encoded data removed]",
      "text/plain": [
       "<Figure size 432x288 with 1 Axes>"
      ]
     },
     "metadata": {
      "needs_background": "light"
     },
     "output_type": "display_data"
    }
   ],
   "source": [
    "# dfm.reset_index(inplace=True)\n",
    "sns.barplot(x='time', y='TMP_mea', data=dfObj)"
   ]
  },
  {
   "cell_type": "code",
   "execution_count": 104,
   "metadata": {},
   "outputs": [
    {
     "ename": "KeyboardInterrupt",
     "evalue": "",
     "output_type": "error",
     "traceback": [
      "\u001b[0;31m---------------------------------------------------------------------------\u001b[0m",
      "\u001b[0;31mKeyboardInterrupt\u001b[0m                         Traceback (most recent call last)",
      "\u001b[0;32m/tmp/ipykernel_8166/3114789347.py\u001b[0m in \u001b[0;36m<module>\u001b[0;34m\u001b[0m\n\u001b[1;32m      1\u001b[0m \u001b[0;31m# 参考ブログのMatplotでの時系列表示 https://sabopy.com/py/seaborn-6/\u001b[0m\u001b[0;34m\u001b[0m\u001b[0;34m\u001b[0m\u001b[0;34m\u001b[0m\u001b[0m\n\u001b[1;32m      2\u001b[0m \u001b[0mfig\u001b[0m\u001b[0;34m,\u001b[0m\u001b[0max\u001b[0m \u001b[0;34m=\u001b[0m \u001b[0mplt\u001b[0m\u001b[0;34m.\u001b[0m\u001b[0msubplots\u001b[0m\u001b[0;34m(\u001b[0m\u001b[0;34m)\u001b[0m\u001b[0;34m\u001b[0m\u001b[0;34m\u001b[0m\u001b[0m\n\u001b[0;32m----> 3\u001b[0;31m \u001b[0msns\u001b[0m\u001b[0;34m.\u001b[0m\u001b[0mlineplot\u001b[0m\u001b[0;34m(\u001b[0m\u001b[0mx\u001b[0m\u001b[0;34m=\u001b[0m\u001b[0;34m\"time\"\u001b[0m\u001b[0;34m,\u001b[0m \u001b[0my\u001b[0m\u001b[0;34m=\u001b[0m\u001b[0;34m\"TMP_mea\"\u001b[0m\u001b[0;34m,\u001b[0m \u001b[0mdata\u001b[0m\u001b[0;34m=\u001b[0m\u001b[0mdfObj\u001b[0m\u001b[0;34m)\u001b[0m\u001b[0;34m\u001b[0m\u001b[0;34m\u001b[0m\u001b[0m\n\u001b[0m\u001b[1;32m      4\u001b[0m \u001b[0mlocator\u001b[0m \u001b[0;34m=\u001b[0m \u001b[0mmdates\u001b[0m\u001b[0;34m.\u001b[0m\u001b[0mAutoDateLocator\u001b[0m\u001b[0;34m(\u001b[0m\u001b[0mminticks\u001b[0m\u001b[0;34m=\u001b[0m\u001b[0;36m4\u001b[0m\u001b[0;34m,\u001b[0m \u001b[0mmaxticks\u001b[0m\u001b[0;34m=\u001b[0m\u001b[0;36m9\u001b[0m\u001b[0;34m)\u001b[0m\u001b[0;34m\u001b[0m\u001b[0;34m\u001b[0m\u001b[0m\n\u001b[1;32m      5\u001b[0m \u001b[0mformatter\u001b[0m \u001b[0;34m=\u001b[0m \u001b[0mmdates\u001b[0m\u001b[0;34m.\u001b[0m\u001b[0mConciseDateFormatter\u001b[0m\u001b[0;34m(\u001b[0m\u001b[0mlocator\u001b[0m\u001b[0;34m)\u001b[0m\u001b[0;34m\u001b[0m\u001b[0;34m\u001b[0m\u001b[0m\n",
      "\u001b[0;32m/opt/conda/lib/python3.9/site-packages/seaborn/_decorators.py\u001b[0m in \u001b[0;36minner_f\u001b[0;34m(*args, **kwargs)\u001b[0m\n\u001b[1;32m     44\u001b[0m             )\n\u001b[1;32m     45\u001b[0m         \u001b[0mkwargs\u001b[0m\u001b[0;34m.\u001b[0m\u001b[0mupdate\u001b[0m\u001b[0;34m(\u001b[0m\u001b[0;34m{\u001b[0m\u001b[0mk\u001b[0m\u001b[0;34m:\u001b[0m \u001b[0marg\u001b[0m \u001b[0;32mfor\u001b[0m \u001b[0mk\u001b[0m\u001b[0;34m,\u001b[0m \u001b[0marg\u001b[0m \u001b[0;32min\u001b[0m \u001b[0mzip\u001b[0m\u001b[0;34m(\u001b[0m\u001b[0msig\u001b[0m\u001b[0;34m.\u001b[0m\u001b[0mparameters\u001b[0m\u001b[0;34m,\u001b[0m \u001b[0margs\u001b[0m\u001b[0;34m)\u001b[0m\u001b[0;34m}\u001b[0m\u001b[0;34m)\u001b[0m\u001b[0;34m\u001b[0m\u001b[0;34m\u001b[0m\u001b[0m\n\u001b[0;32m---> 46\u001b[0;31m         \u001b[0;32mreturn\u001b[0m \u001b[0mf\u001b[0m\u001b[0;34m(\u001b[0m\u001b[0;34m**\u001b[0m\u001b[0mkwargs\u001b[0m\u001b[0;34m)\u001b[0m\u001b[0;34m\u001b[0m\u001b[0;34m\u001b[0m\u001b[0m\n\u001b[0m\u001b[1;32m     47\u001b[0m     \u001b[0;32mreturn\u001b[0m \u001b[0minner_f\u001b[0m\u001b[0;34m\u001b[0m\u001b[0;34m\u001b[0m\u001b[0m\n\u001b[1;32m     48\u001b[0m \u001b[0;34m\u001b[0m\u001b[0m\n",
      "\u001b[0;32m/opt/conda/lib/python3.9/site-packages/seaborn/relational.py\u001b[0m in \u001b[0;36mlineplot\u001b[0;34m(x, y, hue, size, style, data, palette, hue_order, hue_norm, sizes, size_order, size_norm, dashes, markers, style_order, units, estimator, ci, n_boot, seed, sort, err_style, err_kws, legend, ax, **kwargs)\u001b[0m\n\u001b[1;32m    708\u001b[0m     \u001b[0mp\u001b[0m\u001b[0;34m.\u001b[0m\u001b[0m_attach\u001b[0m\u001b[0;34m(\u001b[0m\u001b[0max\u001b[0m\u001b[0;34m)\u001b[0m\u001b[0;34m\u001b[0m\u001b[0;34m\u001b[0m\u001b[0m\n\u001b[1;32m    709\u001b[0m \u001b[0;34m\u001b[0m\u001b[0m\n\u001b[0;32m--> 710\u001b[0;31m     \u001b[0mp\u001b[0m\u001b[0;34m.\u001b[0m\u001b[0mplot\u001b[0m\u001b[0;34m(\u001b[0m\u001b[0max\u001b[0m\u001b[0;34m,\u001b[0m \u001b[0mkwargs\u001b[0m\u001b[0;34m)\u001b[0m\u001b[0;34m\u001b[0m\u001b[0;34m\u001b[0m\u001b[0m\n\u001b[0m\u001b[1;32m    711\u001b[0m     \u001b[0;32mreturn\u001b[0m \u001b[0max\u001b[0m\u001b[0;34m\u001b[0m\u001b[0;34m\u001b[0m\u001b[0m\n\u001b[1;32m    712\u001b[0m \u001b[0;34m\u001b[0m\u001b[0m\n",
      "\u001b[0;32m/opt/conda/lib/python3.9/site-packages/seaborn/relational.py\u001b[0m in \u001b[0;36mplot\u001b[0;34m(self, ax, kws)\u001b[0m\n\u001b[1;32m    469\u001b[0m         \u001b[0;31m# Loop over the semantic subsets and add to the plot\u001b[0m\u001b[0;34m\u001b[0m\u001b[0;34m\u001b[0m\u001b[0;34m\u001b[0m\u001b[0m\n\u001b[1;32m    470\u001b[0m         \u001b[0mgrouping_vars\u001b[0m \u001b[0;34m=\u001b[0m \u001b[0;34m\"hue\"\u001b[0m\u001b[0;34m,\u001b[0m \u001b[0;34m\"size\"\u001b[0m\u001b[0;34m,\u001b[0m \u001b[0;34m\"style\"\u001b[0m\u001b[0;34m\u001b[0m\u001b[0;34m\u001b[0m\u001b[0m\n\u001b[0;32m--> 471\u001b[0;31m         \u001b[0;32mfor\u001b[0m \u001b[0msub_vars\u001b[0m\u001b[0;34m,\u001b[0m \u001b[0msub_data\u001b[0m \u001b[0;32min\u001b[0m \u001b[0mself\u001b[0m\u001b[0;34m.\u001b[0m\u001b[0miter_data\u001b[0m\u001b[0;34m(\u001b[0m\u001b[0mgrouping_vars\u001b[0m\u001b[0;34m,\u001b[0m \u001b[0mfrom_comp_data\u001b[0m\u001b[0;34m=\u001b[0m\u001b[0;32mTrue\u001b[0m\u001b[0;34m)\u001b[0m\u001b[0;34m:\u001b[0m\u001b[0;34m\u001b[0m\u001b[0;34m\u001b[0m\u001b[0m\n\u001b[0m\u001b[1;32m    472\u001b[0m \u001b[0;34m\u001b[0m\u001b[0m\n\u001b[1;32m    473\u001b[0m             \u001b[0;32mif\u001b[0m \u001b[0mself\u001b[0m\u001b[0;34m.\u001b[0m\u001b[0msort\u001b[0m\u001b[0;34m:\u001b[0m\u001b[0;34m\u001b[0m\u001b[0;34m\u001b[0m\u001b[0m\n",
      "\u001b[0;32m/opt/conda/lib/python3.9/site-packages/seaborn/_core.py\u001b[0m in \u001b[0;36miter_data\u001b[0;34m(self, grouping_vars, reverse, from_comp_data)\u001b[0m\n\u001b[1;32m    981\u001b[0m \u001b[0;34m\u001b[0m\u001b[0m\n\u001b[1;32m    982\u001b[0m         \u001b[0;32mif\u001b[0m \u001b[0mfrom_comp_data\u001b[0m\u001b[0;34m:\u001b[0m\u001b[0;34m\u001b[0m\u001b[0;34m\u001b[0m\u001b[0m\n\u001b[0;32m--> 983\u001b[0;31m             \u001b[0mdata\u001b[0m \u001b[0;34m=\u001b[0m \u001b[0mself\u001b[0m\u001b[0;34m.\u001b[0m\u001b[0mcomp_data\u001b[0m\u001b[0;34m\u001b[0m\u001b[0;34m\u001b[0m\u001b[0m\n\u001b[0m\u001b[1;32m    984\u001b[0m         \u001b[0;32melse\u001b[0m\u001b[0;34m:\u001b[0m\u001b[0;34m\u001b[0m\u001b[0;34m\u001b[0m\u001b[0m\n\u001b[1;32m    985\u001b[0m             \u001b[0mdata\u001b[0m \u001b[0;34m=\u001b[0m \u001b[0mself\u001b[0m\u001b[0;34m.\u001b[0m\u001b[0mplot_data\u001b[0m\u001b[0;34m\u001b[0m\u001b[0;34m\u001b[0m\u001b[0m\n",
      "\u001b[0;32m/opt/conda/lib/python3.9/site-packages/seaborn/_core.py\u001b[0m in \u001b[0;36mcomp_data\u001b[0;34m(self)\u001b[0m\n\u001b[1;32m   1055\u001b[0m                     \u001b[0morig\u001b[0m \u001b[0;34m=\u001b[0m \u001b[0mself\u001b[0m\u001b[0;34m.\u001b[0m\u001b[0mplot_data\u001b[0m\u001b[0;34m[\u001b[0m\u001b[0mvar\u001b[0m\u001b[0;34m]\u001b[0m\u001b[0;34m.\u001b[0m\u001b[0mdropna\u001b[0m\u001b[0;34m(\u001b[0m\u001b[0;34m)\u001b[0m\u001b[0;34m\u001b[0m\u001b[0;34m\u001b[0m\u001b[0m\n\u001b[1;32m   1056\u001b[0m                 \u001b[0mcomp_col\u001b[0m \u001b[0;34m=\u001b[0m \u001b[0mpd\u001b[0m\u001b[0;34m.\u001b[0m\u001b[0mSeries\u001b[0m\u001b[0;34m(\u001b[0m\u001b[0mindex\u001b[0m\u001b[0;34m=\u001b[0m\u001b[0morig\u001b[0m\u001b[0;34m.\u001b[0m\u001b[0mindex\u001b[0m\u001b[0;34m,\u001b[0m \u001b[0mdtype\u001b[0m\u001b[0;34m=\u001b[0m\u001b[0mfloat\u001b[0m\u001b[0;34m,\u001b[0m \u001b[0mname\u001b[0m\u001b[0;34m=\u001b[0m\u001b[0mvar\u001b[0m\u001b[0;34m)\u001b[0m\u001b[0;34m\u001b[0m\u001b[0;34m\u001b[0m\u001b[0m\n\u001b[0;32m-> 1057\u001b[0;31m                 \u001b[0mcomp_col\u001b[0m\u001b[0;34m.\u001b[0m\u001b[0mloc\u001b[0m\u001b[0;34m[\u001b[0m\u001b[0morig\u001b[0m\u001b[0;34m.\u001b[0m\u001b[0mindex\u001b[0m\u001b[0;34m]\u001b[0m \u001b[0;34m=\u001b[0m \u001b[0mpd\u001b[0m\u001b[0;34m.\u001b[0m\u001b[0mto_numeric\u001b[0m\u001b[0;34m(\u001b[0m\u001b[0maxis\u001b[0m\u001b[0;34m.\u001b[0m\u001b[0mconvert_units\u001b[0m\u001b[0;34m(\u001b[0m\u001b[0morig\u001b[0m\u001b[0;34m)\u001b[0m\u001b[0;34m)\u001b[0m\u001b[0;34m\u001b[0m\u001b[0;34m\u001b[0m\u001b[0m\n\u001b[0m\u001b[1;32m   1058\u001b[0m \u001b[0;34m\u001b[0m\u001b[0m\n\u001b[1;32m   1059\u001b[0m                 \u001b[0;32mif\u001b[0m \u001b[0maxis\u001b[0m\u001b[0;34m.\u001b[0m\u001b[0mget_scale\u001b[0m\u001b[0;34m(\u001b[0m\u001b[0;34m)\u001b[0m \u001b[0;34m==\u001b[0m \u001b[0;34m\"log\"\u001b[0m\u001b[0;34m:\u001b[0m\u001b[0;34m\u001b[0m\u001b[0;34m\u001b[0m\u001b[0m\n",
      "\u001b[0;32m/opt/conda/lib/python3.9/site-packages/pandas/core/indexing.py\u001b[0m in \u001b[0;36m__setitem__\u001b[0;34m(self, key, value)\u001b[0m\n\u001b[1;32m    717\u001b[0m         \u001b[0;32melse\u001b[0m\u001b[0;34m:\u001b[0m\u001b[0;34m\u001b[0m\u001b[0;34m\u001b[0m\u001b[0m\n\u001b[1;32m    718\u001b[0m             \u001b[0mkey\u001b[0m \u001b[0;34m=\u001b[0m \u001b[0mcom\u001b[0m\u001b[0;34m.\u001b[0m\u001b[0mapply_if_callable\u001b[0m\u001b[0;34m(\u001b[0m\u001b[0mkey\u001b[0m\u001b[0;34m,\u001b[0m \u001b[0mself\u001b[0m\u001b[0;34m.\u001b[0m\u001b[0mobj\u001b[0m\u001b[0;34m)\u001b[0m\u001b[0;34m\u001b[0m\u001b[0;34m\u001b[0m\u001b[0m\n\u001b[0;32m--> 719\u001b[0;31m         \u001b[0mindexer\u001b[0m \u001b[0;34m=\u001b[0m \u001b[0mself\u001b[0m\u001b[0;34m.\u001b[0m\u001b[0m_get_setitem_indexer\u001b[0m\u001b[0;34m(\u001b[0m\u001b[0mkey\u001b[0m\u001b[0;34m)\u001b[0m\u001b[0;34m\u001b[0m\u001b[0;34m\u001b[0m\u001b[0m\n\u001b[0m\u001b[1;32m    720\u001b[0m         \u001b[0mself\u001b[0m\u001b[0;34m.\u001b[0m\u001b[0m_has_valid_setitem_indexer\u001b[0m\u001b[0;34m(\u001b[0m\u001b[0mkey\u001b[0m\u001b[0;34m)\u001b[0m\u001b[0;34m\u001b[0m\u001b[0;34m\u001b[0m\u001b[0m\n\u001b[1;32m    721\u001b[0m \u001b[0;34m\u001b[0m\u001b[0m\n",
      "\u001b[0;32m/opt/conda/lib/python3.9/site-packages/pandas/core/indexing.py\u001b[0m in \u001b[0;36m_get_setitem_indexer\u001b[0;34m(self, key)\u001b[0m\n\u001b[1;32m    664\u001b[0m \u001b[0;34m\u001b[0m\u001b[0m\n\u001b[1;32m    665\u001b[0m         \u001b[0;32mtry\u001b[0m\u001b[0;34m:\u001b[0m\u001b[0;34m\u001b[0m\u001b[0;34m\u001b[0m\u001b[0m\n\u001b[0;32m--> 666\u001b[0;31m             \u001b[0;32mreturn\u001b[0m \u001b[0mself\u001b[0m\u001b[0;34m.\u001b[0m\u001b[0m_convert_to_indexer\u001b[0m\u001b[0;34m(\u001b[0m\u001b[0mkey\u001b[0m\u001b[0;34m,\u001b[0m \u001b[0maxis\u001b[0m\u001b[0;34m=\u001b[0m\u001b[0;36m0\u001b[0m\u001b[0;34m,\u001b[0m \u001b[0mis_setter\u001b[0m\u001b[0;34m=\u001b[0m\u001b[0;32mTrue\u001b[0m\u001b[0;34m)\u001b[0m\u001b[0;34m\u001b[0m\u001b[0;34m\u001b[0m\u001b[0m\n\u001b[0m\u001b[1;32m    667\u001b[0m         \u001b[0;32mexcept\u001b[0m \u001b[0mTypeError\u001b[0m \u001b[0;32mas\u001b[0m \u001b[0me\u001b[0m\u001b[0;34m:\u001b[0m\u001b[0;34m\u001b[0m\u001b[0;34m\u001b[0m\u001b[0m\n\u001b[1;32m    668\u001b[0m \u001b[0;34m\u001b[0m\u001b[0m\n",
      "\u001b[0;32m/opt/conda/lib/python3.9/site-packages/pandas/core/indexing.py\u001b[0m in \u001b[0;36m_convert_to_indexer\u001b[0;34m(self, key, axis, is_setter)\u001b[0m\n\u001b[1;32m   1255\u001b[0m                 \u001b[0;32mreturn\u001b[0m \u001b[0minds\u001b[0m\u001b[0;34m\u001b[0m\u001b[0;34m\u001b[0m\u001b[0m\n\u001b[1;32m   1256\u001b[0m             \u001b[0;32melse\u001b[0m\u001b[0;34m:\u001b[0m\u001b[0;34m\u001b[0m\u001b[0;34m\u001b[0m\u001b[0m\n\u001b[0;32m-> 1257\u001b[0;31m                 \u001b[0;32mreturn\u001b[0m \u001b[0mself\u001b[0m\u001b[0;34m.\u001b[0m\u001b[0m_get_listlike_indexer\u001b[0m\u001b[0;34m(\u001b[0m\u001b[0mkey\u001b[0m\u001b[0;34m,\u001b[0m \u001b[0maxis\u001b[0m\u001b[0;34m)\u001b[0m\u001b[0;34m[\u001b[0m\u001b[0;36m1\u001b[0m\u001b[0;34m]\u001b[0m\u001b[0;34m\u001b[0m\u001b[0;34m\u001b[0m\u001b[0m\n\u001b[0m\u001b[1;32m   1258\u001b[0m         \u001b[0;32melse\u001b[0m\u001b[0;34m:\u001b[0m\u001b[0;34m\u001b[0m\u001b[0;34m\u001b[0m\u001b[0m\n\u001b[1;32m   1259\u001b[0m             \u001b[0;32mtry\u001b[0m\u001b[0;34m:\u001b[0m\u001b[0;34m\u001b[0m\u001b[0;34m\u001b[0m\u001b[0m\n",
      "\u001b[0;32m/opt/conda/lib/python3.9/site-packages/pandas/core/indexing.py\u001b[0m in \u001b[0;36m_get_listlike_indexer\u001b[0;34m(self, key, axis)\u001b[0m\n\u001b[1;32m   1310\u001b[0m             \u001b[0mkeyarr\u001b[0m \u001b[0;34m=\u001b[0m \u001b[0max\u001b[0m\u001b[0;34m.\u001b[0m\u001b[0mreindex\u001b[0m\u001b[0;34m(\u001b[0m\u001b[0mkeyarr\u001b[0m\u001b[0;34m)\u001b[0m\u001b[0;34m[\u001b[0m\u001b[0;36m0\u001b[0m\u001b[0;34m]\u001b[0m\u001b[0;34m\u001b[0m\u001b[0;34m\u001b[0m\u001b[0m\n\u001b[1;32m   1311\u001b[0m         \u001b[0;32melse\u001b[0m\u001b[0;34m:\u001b[0m\u001b[0;34m\u001b[0m\u001b[0;34m\u001b[0m\u001b[0m\n\u001b[0;32m-> 1312\u001b[0;31m             \u001b[0mkeyarr\u001b[0m\u001b[0;34m,\u001b[0m \u001b[0mindexer\u001b[0m\u001b[0;34m,\u001b[0m \u001b[0mnew_indexer\u001b[0m \u001b[0;34m=\u001b[0m \u001b[0max\u001b[0m\u001b[0;34m.\u001b[0m\u001b[0m_reindex_non_unique\u001b[0m\u001b[0;34m(\u001b[0m\u001b[0mkeyarr\u001b[0m\u001b[0;34m)\u001b[0m\u001b[0;34m\u001b[0m\u001b[0;34m\u001b[0m\u001b[0m\n\u001b[0m\u001b[1;32m   1313\u001b[0m \u001b[0;34m\u001b[0m\u001b[0m\n\u001b[1;32m   1314\u001b[0m         \u001b[0mself\u001b[0m\u001b[0;34m.\u001b[0m\u001b[0m_validate_read_indexer\u001b[0m\u001b[0;34m(\u001b[0m\u001b[0mkeyarr\u001b[0m\u001b[0;34m,\u001b[0m \u001b[0mindexer\u001b[0m\u001b[0;34m,\u001b[0m \u001b[0maxis\u001b[0m\u001b[0;34m)\u001b[0m\u001b[0;34m\u001b[0m\u001b[0;34m\u001b[0m\u001b[0m\n",
      "\u001b[0;32m/opt/conda/lib/python3.9/site-packages/pandas/core/indexes/base.py\u001b[0m in \u001b[0;36m_reindex_non_unique\u001b[0;34m(self, target)\u001b[0m\n\u001b[1;32m   3865\u001b[0m             \u001b[0;32mreturn\u001b[0m \u001b[0mself\u001b[0m\u001b[0;34m[\u001b[0m\u001b[0;34m:\u001b[0m\u001b[0;36m0\u001b[0m\u001b[0;34m]\u001b[0m\u001b[0;34m,\u001b[0m \u001b[0mnp\u001b[0m\u001b[0;34m.\u001b[0m\u001b[0marray\u001b[0m\u001b[0;34m(\u001b[0m\u001b[0;34m[\u001b[0m\u001b[0;34m]\u001b[0m\u001b[0;34m,\u001b[0m \u001b[0mdtype\u001b[0m\u001b[0;34m=\u001b[0m\u001b[0mnp\u001b[0m\u001b[0;34m.\u001b[0m\u001b[0mintp\u001b[0m\u001b[0;34m)\u001b[0m\u001b[0;34m,\u001b[0m \u001b[0;32mNone\u001b[0m\u001b[0;34m\u001b[0m\u001b[0;34m\u001b[0m\u001b[0m\n\u001b[1;32m   3866\u001b[0m \u001b[0;34m\u001b[0m\u001b[0m\n\u001b[0;32m-> 3867\u001b[0;31m         \u001b[0mindexer\u001b[0m\u001b[0;34m,\u001b[0m \u001b[0mmissing\u001b[0m \u001b[0;34m=\u001b[0m \u001b[0mself\u001b[0m\u001b[0;34m.\u001b[0m\u001b[0mget_indexer_non_unique\u001b[0m\u001b[0;34m(\u001b[0m\u001b[0mtarget\u001b[0m\u001b[0;34m)\u001b[0m\u001b[0;34m\u001b[0m\u001b[0;34m\u001b[0m\u001b[0m\n\u001b[0m\u001b[1;32m   3868\u001b[0m         \u001b[0mcheck\u001b[0m \u001b[0;34m=\u001b[0m \u001b[0mindexer\u001b[0m \u001b[0;34m!=\u001b[0m \u001b[0;34m-\u001b[0m\u001b[0;36m1\u001b[0m\u001b[0;34m\u001b[0m\u001b[0;34m\u001b[0m\u001b[0m\n\u001b[1;32m   3869\u001b[0m         \u001b[0mnew_labels\u001b[0m \u001b[0;34m=\u001b[0m \u001b[0mself\u001b[0m\u001b[0;34m.\u001b[0m\u001b[0mtake\u001b[0m\u001b[0;34m(\u001b[0m\u001b[0mindexer\u001b[0m\u001b[0;34m[\u001b[0m\u001b[0mcheck\u001b[0m\u001b[0;34m]\u001b[0m\u001b[0;34m)\u001b[0m\u001b[0;34m\u001b[0m\u001b[0;34m\u001b[0m\u001b[0m\n",
      "\u001b[0;32m/opt/conda/lib/python3.9/site-packages/pandas/core/indexes/base.py\u001b[0m in \u001b[0;36mget_indexer_non_unique\u001b[0;34m(self, target)\u001b[0m\n\u001b[1;32m   5256\u001b[0m         \u001b[0mtgt_values\u001b[0m \u001b[0;34m=\u001b[0m \u001b[0mtarget\u001b[0m\u001b[0;34m.\u001b[0m\u001b[0m_get_engine_target\u001b[0m\u001b[0;34m(\u001b[0m\u001b[0;34m)\u001b[0m\u001b[0;34m\u001b[0m\u001b[0;34m\u001b[0m\u001b[0m\n\u001b[1;32m   5257\u001b[0m \u001b[0;34m\u001b[0m\u001b[0m\n\u001b[0;32m-> 5258\u001b[0;31m         \u001b[0mindexer\u001b[0m\u001b[0;34m,\u001b[0m \u001b[0mmissing\u001b[0m \u001b[0;34m=\u001b[0m \u001b[0mself\u001b[0m\u001b[0;34m.\u001b[0m\u001b[0m_engine\u001b[0m\u001b[0;34m.\u001b[0m\u001b[0mget_indexer_non_unique\u001b[0m\u001b[0;34m(\u001b[0m\u001b[0mtgt_values\u001b[0m\u001b[0;34m)\u001b[0m\u001b[0;34m\u001b[0m\u001b[0;34m\u001b[0m\u001b[0m\n\u001b[0m\u001b[1;32m   5259\u001b[0m         \u001b[0;32mreturn\u001b[0m \u001b[0mensure_platform_int\u001b[0m\u001b[0;34m(\u001b[0m\u001b[0mindexer\u001b[0m\u001b[0;34m)\u001b[0m\u001b[0;34m,\u001b[0m \u001b[0mensure_platform_int\u001b[0m\u001b[0;34m(\u001b[0m\u001b[0mmissing\u001b[0m\u001b[0;34m)\u001b[0m\u001b[0;34m\u001b[0m\u001b[0;34m\u001b[0m\u001b[0m\n\u001b[1;32m   5260\u001b[0m \u001b[0;34m\u001b[0m\u001b[0m\n",
      "\u001b[0;32m/opt/conda/lib/python3.9/site-packages/pandas/_libs/index.pyx\u001b[0m in \u001b[0;36mpandas._libs.index.DatetimeEngine.get_indexer_non_unique\u001b[0;34m()\u001b[0m\n",
      "\u001b[0;32m/opt/conda/lib/python3.9/site-packages/pandas/_libs/index.pyx\u001b[0m in \u001b[0;36mpandas._libs.index.IndexEngine.get_indexer_non_unique\u001b[0;34m()\u001b[0m\n",
      "\u001b[0;32m<__array_function__ internals>\u001b[0m in \u001b[0;36mresize\u001b[0;34m(*args, **kwargs)\u001b[0m\n",
      "\u001b[0;32m/opt/conda/lib/python3.9/site-packages/numpy/core/fromnumeric.py\u001b[0m in \u001b[0;36mresize\u001b[0;34m(a, new_shape)\u001b[0m\n\u001b[1;32m   1430\u001b[0m \u001b[0;34m\u001b[0m\u001b[0m\n\u001b[1;32m   1431\u001b[0m     \u001b[0mrepeats\u001b[0m \u001b[0;34m=\u001b[0m \u001b[0;34m-\u001b[0m\u001b[0;34m(\u001b[0m\u001b[0;34m-\u001b[0m\u001b[0mnew_size\u001b[0m \u001b[0;34m//\u001b[0m \u001b[0ma\u001b[0m\u001b[0;34m.\u001b[0m\u001b[0msize\u001b[0m\u001b[0;34m)\u001b[0m  \u001b[0;31m# ceil division\u001b[0m\u001b[0;34m\u001b[0m\u001b[0;34m\u001b[0m\u001b[0m\n\u001b[0;32m-> 1432\u001b[0;31m     \u001b[0ma\u001b[0m \u001b[0;34m=\u001b[0m \u001b[0mconcatenate\u001b[0m\u001b[0;34m(\u001b[0m\u001b[0;34m(\u001b[0m\u001b[0ma\u001b[0m\u001b[0;34m,\u001b[0m\u001b[0;34m)\u001b[0m \u001b[0;34m*\u001b[0m \u001b[0mrepeats\u001b[0m\u001b[0;34m)\u001b[0m\u001b[0;34m[\u001b[0m\u001b[0;34m:\u001b[0m\u001b[0mnew_size\u001b[0m\u001b[0;34m]\u001b[0m\u001b[0;34m\u001b[0m\u001b[0;34m\u001b[0m\u001b[0m\n\u001b[0m\u001b[1;32m   1433\u001b[0m \u001b[0;34m\u001b[0m\u001b[0m\n\u001b[1;32m   1434\u001b[0m     \u001b[0;32mreturn\u001b[0m \u001b[0mreshape\u001b[0m\u001b[0;34m(\u001b[0m\u001b[0ma\u001b[0m\u001b[0;34m,\u001b[0m \u001b[0mnew_shape\u001b[0m\u001b[0;34m)\u001b[0m\u001b[0;34m\u001b[0m\u001b[0;34m\u001b[0m\u001b[0m\n",
      "\u001b[0;32m<__array_function__ internals>\u001b[0m in \u001b[0;36mconcatenate\u001b[0;34m(*args, **kwargs)\u001b[0m\n",
      "\u001b[0;31mKeyboardInterrupt\u001b[0m: "
     ]
    },
    {
     "data": {
      "image/png": "[encoded data removed]",
      "text/plain": [
       "<Figure size 432x288 with 1 Axes>"
      ]
     },
     "metadata": {
      "needs_background": "light"
     },
     "output_type": "display_data"
    }
   ],
   "source": [
    "# 参考ブログのMatplotでの時系列表示 https://sabopy.com/py/seaborn-6/\n",
    "fig,ax = plt.subplots()\n",
    "sns.lineplot(x=\"time\", y=\"TMP_mea\", data=dfObj)\n",
    "locator = mdates.AutoDateLocator(minticks=4, maxticks=9)\n",
    "formatter = mdates.ConciseDateFormatter(locator)\n",
    "ax.xaxis.set_major_locator(locator)\n",
    "ax.xaxis.set_major_formatter(formatter)\n",
    "plt.savefig(\"kyoto_temp_8_mdates.png\",dpi=100) "
   ]
  },
  {
   "cell_type": "code",
   "execution_count": null,
   "metadata": {},
   "outputs": [],
   "source": []
  }
 ],
 "metadata": {
  "interpreter": {
   "hash": "d4d1e4263499bec80672ea0156c357c1ee493ec2b1c70f0acce89fc37c4a6abe"
  },
  "kernelspec": {
   "display_name": "Python 3.9.5 64-bit ('base': conda)",
   "language": "python",
   "name": "python3"
  },
  "language_info": {
   "codemirror_mode": {
    "name": "ipython",
    "version": 3
   },
   "file_extension": ".py",
   "mimetype": "text/x-python",
   "name": "python",
   "nbconvert_exporter": "python",
   "pygments_lexer": "ipython3",
   "version": "3.9.5"
  },
  "orig_nbformat": 4
 },
 "nbformat": 4,
 "nbformat_minor": 2
}
